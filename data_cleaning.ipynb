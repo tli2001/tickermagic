{
 "cells": [
  {
   "cell_type": "code",
   "execution_count": 1,
   "metadata": {
    "collapsed": true
   },
   "outputs": [],
   "source": [
    "# Backend\n",
    "%matplotlib inline\n",
    "\n",
    "# Import dependencies\n",
    "import os\n",
    "import pandas as pd\n",
    "import numpy as np\n",
    "import glob\n",
    "import matplotlib.pyplot as plt\n",
    "\n",
    "from sklearn.linear_model import LinearRegression\n",
    "from sklearn.preprocessing import StandardScaler"
   ]
  },
  {
   "cell_type": "code",
   "execution_count": 2,
   "metadata": {},
   "outputs": [
    {
     "data": {
      "text/plain": [
       "'C:/Users/Tony/Desktop/BootcampFiles/GitHub/tickermagic/data/stocks\\\\a.us.txt'"
      ]
     },
     "execution_count": 2,
     "metadata": {},
     "output_type": "execute_result"
    }
   ],
   "source": [
    "# Pull each txt file in stocks folder into a list of files\n",
    "path = 'C:/Users/Tony/Desktop/BootcampFiles/GitHub/tickermagic/data/stocks/'\n",
    "filepaths = glob.glob('C:/Users/Tony/Desktop/BootcampFiles/GitHub/tickermagic/data/stocks/*.txt')\n",
    "filepaths[0]"
   ]
  },
  {
   "cell_type": "code",
   "execution_count": 3,
   "metadata": {},
   "outputs": [
    {
     "data": {
      "text/html": [
       "<div>\n",
       "<style>\n",
       "    .dataframe thead tr:only-child th {\n",
       "        text-align: right;\n",
       "    }\n",
       "\n",
       "    .dataframe thead th {\n",
       "        text-align: left;\n",
       "    }\n",
       "\n",
       "    .dataframe tbody tr th {\n",
       "        vertical-align: top;\n",
       "    }\n",
       "</style>\n",
       "<table border=\"1\" class=\"dataframe\">\n",
       "  <thead>\n",
       "    <tr style=\"text-align: right;\">\n",
       "      <th></th>\n",
       "      <th>Date</th>\n",
       "      <th>Open</th>\n",
       "      <th>High</th>\n",
       "      <th>Low</th>\n",
       "      <th>Close</th>\n",
       "      <th>Volume</th>\n",
       "      <th>OpenInt</th>\n",
       "    </tr>\n",
       "  </thead>\n",
       "  <tbody>\n",
       "    <tr>\n",
       "      <th>0</th>\n",
       "      <td>1999-11-18</td>\n",
       "      <td>30.713</td>\n",
       "      <td>33.754</td>\n",
       "      <td>27.002</td>\n",
       "      <td>29.702</td>\n",
       "      <td>66277506</td>\n",
       "      <td>0</td>\n",
       "    </tr>\n",
       "    <tr>\n",
       "      <th>1</th>\n",
       "      <td>1999-11-19</td>\n",
       "      <td>28.986</td>\n",
       "      <td>29.027</td>\n",
       "      <td>26.872</td>\n",
       "      <td>27.257</td>\n",
       "      <td>16142920</td>\n",
       "      <td>0</td>\n",
       "    </tr>\n",
       "    <tr>\n",
       "      <th>2</th>\n",
       "      <td>1999-11-22</td>\n",
       "      <td>27.886</td>\n",
       "      <td>29.702</td>\n",
       "      <td>27.044</td>\n",
       "      <td>29.702</td>\n",
       "      <td>6970266</td>\n",
       "      <td>0</td>\n",
       "    </tr>\n",
       "    <tr>\n",
       "      <th>3</th>\n",
       "      <td>1999-11-23</td>\n",
       "      <td>28.688</td>\n",
       "      <td>29.446</td>\n",
       "      <td>27.002</td>\n",
       "      <td>27.002</td>\n",
       "      <td>6332082</td>\n",
       "      <td>0</td>\n",
       "    </tr>\n",
       "    <tr>\n",
       "      <th>4</th>\n",
       "      <td>1999-11-24</td>\n",
       "      <td>27.083</td>\n",
       "      <td>28.309</td>\n",
       "      <td>27.002</td>\n",
       "      <td>27.717</td>\n",
       "      <td>5132147</td>\n",
       "      <td>0</td>\n",
       "    </tr>\n",
       "  </tbody>\n",
       "</table>\n",
       "</div>"
      ],
      "text/plain": [
       "         Date    Open    High     Low   Close    Volume  OpenInt\n",
       "0  1999-11-18  30.713  33.754  27.002  29.702  66277506        0\n",
       "1  1999-11-19  28.986  29.027  26.872  27.257  16142920        0\n",
       "2  1999-11-22  27.886  29.702  27.044  29.702   6970266        0\n",
       "3  1999-11-23  28.688  29.446  27.002  27.002   6332082        0\n",
       "4  1999-11-24  27.083  28.309  27.002  27.717   5132147        0"
      ]
     },
     "execution_count": 3,
     "metadata": {},
     "output_type": "execute_result"
    }
   ],
   "source": [
    "# for each file, read into a pandas dataframe in a list of dataframes\n",
    "tickerdflist = [pd.read_csv(filepath) for filepath in filepaths]\n",
    "tickerdflist[0].head(5)"
   ]
  },
  {
   "cell_type": "code",
   "execution_count": 4,
   "metadata": {},
   "outputs": [
    {
     "data": {
      "text/plain": [
       "['a.us.txt',\n",
       " 'aapl.us.txt',\n",
       " 'amzn.us.txt',\n",
       " 'bac.us.txt',\n",
       " 'f.us.txt',\n",
       " 'jp.us.txt',\n",
       " 'nflx.us.txt',\n",
       " 'pcg.us.txt',\n",
       " 'tsla.us.txt',\n",
       " 'yy.us.txt']"
      ]
     },
     "execution_count": 4,
     "metadata": {},
     "output_type": "execute_result"
    }
   ],
   "source": [
    "# for each file, add the filename (ticker name) into a list\n",
    "tickernamelist = [os.path.relpath(filepath, path) for filepath in filepaths]\n",
    "tickernamelist"
   ]
  },
  {
   "cell_type": "code",
   "execution_count": 5,
   "metadata": {},
   "outputs": [
    {
     "data": {
      "text/plain": [
       "['a', 'aapl', 'amzn', 'bac', 'f', 'jp', 'nflx', 'pcg', 'tsla', 'yy']"
      ]
     },
     "execution_count": 5,
     "metadata": {},
     "output_type": "execute_result"
    }
   ],
   "source": [
    "# clean up names to read only the ticker name\n",
    "tickernamelist = [ticker.replace('.us.txt','') for ticker in tickernamelist]\n",
    "tickernamelist"
   ]
  },
  {
   "cell_type": "code",
   "execution_count": 7,
   "metadata": {
    "collapsed": true
   },
   "outputs": [],
   "source": [
    "# combine the list of ticker dataframes (tickerdflist) with the list of ticker names, add tickername in ticker column\n",
    "for ticker, tickername in zip(tickerdflist, tickernamelist):\n",
    "    ticker['ticker'] = tickername"
   ]
  },
  {
   "cell_type": "code",
   "execution_count": 8,
   "metadata": {},
   "outputs": [
    {
     "data": {
      "text/html": [
       "<div>\n",
       "<style>\n",
       "    .dataframe thead tr:only-child th {\n",
       "        text-align: right;\n",
       "    }\n",
       "\n",
       "    .dataframe thead th {\n",
       "        text-align: left;\n",
       "    }\n",
       "\n",
       "    .dataframe tbody tr th {\n",
       "        vertical-align: top;\n",
       "    }\n",
       "</style>\n",
       "<table border=\"1\" class=\"dataframe\">\n",
       "  <thead>\n",
       "    <tr style=\"text-align: right;\">\n",
       "      <th></th>\n",
       "      <th>Date</th>\n",
       "      <th>Open</th>\n",
       "      <th>High</th>\n",
       "      <th>Low</th>\n",
       "      <th>Close</th>\n",
       "      <th>Volume</th>\n",
       "      <th>OpenInt</th>\n",
       "      <th>ticker</th>\n",
       "    </tr>\n",
       "  </thead>\n",
       "  <tbody>\n",
       "    <tr>\n",
       "      <th>0</th>\n",
       "      <td>2012-11-21</td>\n",
       "      <td>10.50</td>\n",
       "      <td>11.75</td>\n",
       "      <td>10.50</td>\n",
       "      <td>11.31</td>\n",
       "      <td>4567029</td>\n",
       "      <td>0</td>\n",
       "      <td>yy</td>\n",
       "    </tr>\n",
       "    <tr>\n",
       "      <th>1</th>\n",
       "      <td>2012-11-23</td>\n",
       "      <td>11.57</td>\n",
       "      <td>11.76</td>\n",
       "      <td>11.20</td>\n",
       "      <td>11.32</td>\n",
       "      <td>236917</td>\n",
       "      <td>0</td>\n",
       "      <td>yy</td>\n",
       "    </tr>\n",
       "    <tr>\n",
       "      <th>2</th>\n",
       "      <td>2012-11-26</td>\n",
       "      <td>11.50</td>\n",
       "      <td>11.50</td>\n",
       "      <td>10.81</td>\n",
       "      <td>11.30</td>\n",
       "      <td>257287</td>\n",
       "      <td>0</td>\n",
       "      <td>yy</td>\n",
       "    </tr>\n",
       "    <tr>\n",
       "      <th>3</th>\n",
       "      <td>2012-11-27</td>\n",
       "      <td>11.40</td>\n",
       "      <td>12.99</td>\n",
       "      <td>11.17</td>\n",
       "      <td>12.20</td>\n",
       "      <td>460347</td>\n",
       "      <td>0</td>\n",
       "      <td>yy</td>\n",
       "    </tr>\n",
       "    <tr>\n",
       "      <th>4</th>\n",
       "      <td>2012-11-28</td>\n",
       "      <td>12.29</td>\n",
       "      <td>13.15</td>\n",
       "      <td>12.18</td>\n",
       "      <td>13.00</td>\n",
       "      <td>740654</td>\n",
       "      <td>0</td>\n",
       "      <td>yy</td>\n",
       "    </tr>\n",
       "  </tbody>\n",
       "</table>\n",
       "</div>"
      ],
      "text/plain": [
       "         Date   Open   High    Low  Close   Volume  OpenInt ticker\n",
       "0  2012-11-21  10.50  11.75  10.50  11.31  4567029        0     yy\n",
       "1  2012-11-23  11.57  11.76  11.20  11.32   236917        0     yy\n",
       "2  2012-11-26  11.50  11.50  10.81  11.30   257287        0     yy\n",
       "3  2012-11-27  11.40  12.99  11.17  12.20   460347        0     yy\n",
       "4  2012-11-28  12.29  13.15  12.18  13.00   740654        0     yy"
      ]
     },
     "execution_count": 8,
     "metadata": {},
     "output_type": "execute_result"
    }
   ],
   "source": [
    "tickerdflist[-1].head(5)"
   ]
  },
  {
   "cell_type": "code",
   "execution_count": 9,
   "metadata": {},
   "outputs": [
    {
     "data": {
      "text/html": [
       "<div>\n",
       "<style>\n",
       "    .dataframe thead tr:only-child th {\n",
       "        text-align: right;\n",
       "    }\n",
       "\n",
       "    .dataframe thead th {\n",
       "        text-align: left;\n",
       "    }\n",
       "\n",
       "    .dataframe tbody tr th {\n",
       "        vertical-align: top;\n",
       "    }\n",
       "</style>\n",
       "<table border=\"1\" class=\"dataframe\">\n",
       "  <thead>\n",
       "    <tr style=\"text-align: right;\">\n",
       "      <th></th>\n",
       "      <th>Date</th>\n",
       "      <th>Open</th>\n",
       "      <th>High</th>\n",
       "      <th>Low</th>\n",
       "      <th>Close</th>\n",
       "      <th>Volume</th>\n",
       "      <th>OpenInt</th>\n",
       "      <th>ticker</th>\n",
       "    </tr>\n",
       "  </thead>\n",
       "  <tbody>\n",
       "    <tr>\n",
       "      <th>0</th>\n",
       "      <td>1997-05-16</td>\n",
       "      <td>1.97</td>\n",
       "      <td>1.98</td>\n",
       "      <td>1.71</td>\n",
       "      <td>1.73</td>\n",
       "      <td>14700000</td>\n",
       "      <td>0</td>\n",
       "      <td>amzn</td>\n",
       "    </tr>\n",
       "    <tr>\n",
       "      <th>1</th>\n",
       "      <td>1997-05-19</td>\n",
       "      <td>1.76</td>\n",
       "      <td>1.77</td>\n",
       "      <td>1.62</td>\n",
       "      <td>1.71</td>\n",
       "      <td>6106800</td>\n",
       "      <td>0</td>\n",
       "      <td>amzn</td>\n",
       "    </tr>\n",
       "  </tbody>\n",
       "</table>\n",
       "</div>"
      ],
      "text/plain": [
       "         Date  Open  High   Low  Close    Volume  OpenInt ticker\n",
       "0  1997-05-16  1.97  1.98  1.71   1.73  14700000        0   amzn\n",
       "1  1997-05-19  1.76  1.77  1.62   1.71   6106800        0   amzn"
      ]
     },
     "execution_count": 9,
     "metadata": {},
     "output_type": "execute_result"
    }
   ],
   "source": [
    "amzn_df = tickerdflist[2]\n",
    "amzn_df.head(2)"
   ]
  },
  {
   "cell_type": "code",
   "execution_count": 10,
   "metadata": {},
   "outputs": [
    {
     "data": {
      "text/html": [
       "<div>\n",
       "<style>\n",
       "    .dataframe thead tr:only-child th {\n",
       "        text-align: right;\n",
       "    }\n",
       "\n",
       "    .dataframe thead th {\n",
       "        text-align: left;\n",
       "    }\n",
       "\n",
       "    .dataframe tbody tr th {\n",
       "        vertical-align: top;\n",
       "    }\n",
       "</style>\n",
       "<table border=\"1\" class=\"dataframe\">\n",
       "  <thead>\n",
       "    <tr style=\"text-align: right;\">\n",
       "      <th></th>\n",
       "      <th>Date</th>\n",
       "      <th>Close</th>\n",
       "      <th>Volume</th>\n",
       "      <th>ticker</th>\n",
       "    </tr>\n",
       "  </thead>\n",
       "  <tbody>\n",
       "    <tr>\n",
       "      <th>0</th>\n",
       "      <td>1997-05-16</td>\n",
       "      <td>1.73</td>\n",
       "      <td>14700000</td>\n",
       "      <td>amzn</td>\n",
       "    </tr>\n",
       "    <tr>\n",
       "      <th>1</th>\n",
       "      <td>1997-05-19</td>\n",
       "      <td>1.71</td>\n",
       "      <td>6106800</td>\n",
       "      <td>amzn</td>\n",
       "    </tr>\n",
       "  </tbody>\n",
       "</table>\n",
       "</div>"
      ],
      "text/plain": [
       "         Date  Close    Volume ticker\n",
       "0  1997-05-16   1.73  14700000   amzn\n",
       "1  1997-05-19   1.71   6106800   amzn"
      ]
     },
     "execution_count": 10,
     "metadata": {},
     "output_type": "execute_result"
    }
   ],
   "source": [
    "amzn_df = amzn_df.drop(['Open', 'High', 'Low', 'OpenInt'], axis=1)\n",
    "amzn_df.head(2)"
   ]
  },
  {
   "cell_type": "code",
   "execution_count": 11,
   "metadata": {},
   "outputs": [
    {
     "data": {
      "image/png": "[encoded data removed]",
      "text/plain": [
       "<matplotlib.figure.Figure at 0xad246d8>"
      ]
     },
     "metadata": {},
     "output_type": "display_data"
    }
   ],
   "source": [
    "plt.plot(amzn_df['Date'], amzn_df['Close'])\n",
    "plt.show()"
   ]
  },
  {
   "cell_type": "code",
   "execution_count": 12,
   "metadata": {},
   "outputs": [
    {
     "data": {
      "text/html": [
       "<div>\n",
       "<style>\n",
       "    .dataframe thead tr:only-child th {\n",
       "        text-align: right;\n",
       "    }\n",
       "\n",
       "    .dataframe thead th {\n",
       "        text-align: left;\n",
       "    }\n",
       "\n",
       "    .dataframe tbody tr th {\n",
       "        vertical-align: top;\n",
       "    }\n",
       "</style>\n",
       "<table border=\"1\" class=\"dataframe\">\n",
       "  <thead>\n",
       "    <tr style=\"text-align: right;\">\n",
       "      <th></th>\n",
       "      <th>Date</th>\n",
       "      <th>Open</th>\n",
       "      <th>High</th>\n",
       "      <th>Low</th>\n",
       "      <th>Close</th>\n",
       "      <th>Volume</th>\n",
       "      <th>OpenInt</th>\n",
       "      <th>ticker</th>\n",
       "    </tr>\n",
       "  </thead>\n",
       "  <tbody>\n",
       "    <tr>\n",
       "      <th>52687</th>\n",
       "      <td>2017-11-06</td>\n",
       "      <td>90.90</td>\n",
       "      <td>93.75</td>\n",
       "      <td>90.51</td>\n",
       "      <td>92.35</td>\n",
       "      <td>984511</td>\n",
       "      <td>0</td>\n",
       "      <td>yy</td>\n",
       "    </tr>\n",
       "    <tr>\n",
       "      <th>52688</th>\n",
       "      <td>2017-11-07</td>\n",
       "      <td>92.97</td>\n",
       "      <td>94.27</td>\n",
       "      <td>91.06</td>\n",
       "      <td>91.36</td>\n",
       "      <td>636653</td>\n",
       "      <td>0</td>\n",
       "      <td>yy</td>\n",
       "    </tr>\n",
       "    <tr>\n",
       "      <th>52689</th>\n",
       "      <td>2017-11-08</td>\n",
       "      <td>91.10</td>\n",
       "      <td>91.76</td>\n",
       "      <td>87.73</td>\n",
       "      <td>89.40</td>\n",
       "      <td>1116162</td>\n",
       "      <td>0</td>\n",
       "      <td>yy</td>\n",
       "    </tr>\n",
       "    <tr>\n",
       "      <th>52690</th>\n",
       "      <td>2017-11-09</td>\n",
       "      <td>88.72</td>\n",
       "      <td>91.09</td>\n",
       "      <td>88.39</td>\n",
       "      <td>90.65</td>\n",
       "      <td>821527</td>\n",
       "      <td>0</td>\n",
       "      <td>yy</td>\n",
       "    </tr>\n",
       "    <tr>\n",
       "      <th>52691</th>\n",
       "      <td>2017-11-10</td>\n",
       "      <td>89.77</td>\n",
       "      <td>90.40</td>\n",
       "      <td>88.08</td>\n",
       "      <td>88.92</td>\n",
       "      <td>550619</td>\n",
       "      <td>0</td>\n",
       "      <td>yy</td>\n",
       "    </tr>\n",
       "  </tbody>\n",
       "</table>\n",
       "</div>"
      ],
      "text/plain": [
       "             Date   Open   High    Low  Close   Volume  OpenInt ticker\n",
       "52687  2017-11-06  90.90  93.75  90.51  92.35   984511        0     yy\n",
       "52688  2017-11-07  92.97  94.27  91.06  91.36   636653        0     yy\n",
       "52689  2017-11-08  91.10  91.76  87.73  89.40  1116162        0     yy\n",
       "52690  2017-11-09  88.72  91.09  88.39  90.65   821527        0     yy\n",
       "52691  2017-11-10  89.77  90.40  88.08  88.92   550619        0     yy"
      ]
     },
     "execution_count": 12,
     "metadata": {},
     "output_type": "execute_result"
    }
   ],
   "source": [
    "alltickers_df = pd.concat(tickerdflist, ignore_index=True)\n",
    "alltickers_df.tail(5)"
   ]
  },
  {
   "cell_type": "code",
   "execution_count": 14,
   "metadata": {
    "scrolled": false
   },
   "outputs": [
    {
     "data": {
      "text/html": [
       "<div>\n",
       "<style>\n",
       "    .dataframe thead tr:only-child th {\n",
       "        text-align: right;\n",
       "    }\n",
       "\n",
       "    .dataframe thead th {\n",
       "        text-align: left;\n",
       "    }\n",
       "\n",
       "    .dataframe tbody tr th {\n",
       "        vertical-align: top;\n",
       "    }\n",
       "</style>\n",
       "<table border=\"1\" class=\"dataframe\">\n",
       "  <thead>\n",
       "    <tr style=\"text-align: right;\">\n",
       "      <th></th>\n",
       "      <th>Date</th>\n",
       "      <th>Close</th>\n",
       "      <th>Volume</th>\n",
       "      <th>ticker</th>\n",
       "      <th>pct_change</th>\n",
       "      <th>log_ret</th>\n",
       "    </tr>\n",
       "  </thead>\n",
       "  <tbody>\n",
       "    <tr>\n",
       "      <th>0</th>\n",
       "      <td>1997-05-16</td>\n",
       "      <td>1.73</td>\n",
       "      <td>14700000</td>\n",
       "      <td>amzn</td>\n",
       "      <td>-0.011561</td>\n",
       "      <td>-0.011628</td>\n",
       "    </tr>\n",
       "    <tr>\n",
       "      <th>1</th>\n",
       "      <td>1997-05-19</td>\n",
       "      <td>1.71</td>\n",
       "      <td>6106800</td>\n",
       "      <td>amzn</td>\n",
       "      <td>-0.011561</td>\n",
       "      <td>-0.011628</td>\n",
       "    </tr>\n",
       "    <tr>\n",
       "      <th>2</th>\n",
       "      <td>1997-05-20</td>\n",
       "      <td>1.64</td>\n",
       "      <td>5467200</td>\n",
       "      <td>amzn</td>\n",
       "      <td>-0.040936</td>\n",
       "      <td>-0.041797</td>\n",
       "    </tr>\n",
       "    <tr>\n",
       "      <th>3</th>\n",
       "      <td>1997-05-21</td>\n",
       "      <td>1.43</td>\n",
       "      <td>18853200</td>\n",
       "      <td>amzn</td>\n",
       "      <td>-0.128049</td>\n",
       "      <td>-0.137022</td>\n",
       "    </tr>\n",
       "    <tr>\n",
       "      <th>4</th>\n",
       "      <td>1997-05-22</td>\n",
       "      <td>1.40</td>\n",
       "      <td>11776800</td>\n",
       "      <td>amzn</td>\n",
       "      <td>-0.020979</td>\n",
       "      <td>-0.021202</td>\n",
       "    </tr>\n",
       "  </tbody>\n",
       "</table>\n",
       "</div>"
      ],
      "text/plain": [
       "         Date  Close    Volume ticker  pct_change   log_ret\n",
       "0  1997-05-16   1.73  14700000   amzn   -0.011561 -0.011628\n",
       "1  1997-05-19   1.71   6106800   amzn   -0.011561 -0.011628\n",
       "2  1997-05-20   1.64   5467200   amzn   -0.040936 -0.041797\n",
       "3  1997-05-21   1.43  18853200   amzn   -0.128049 -0.137022\n",
       "4  1997-05-22   1.40  11776800   amzn   -0.020979 -0.021202"
      ]
     },
     "execution_count": 14,
     "metadata": {},
     "output_type": "execute_result"
    }
   ],
   "source": [
    "# Calculate the Percent Change of Close price (change from prior close) and back fill NaNs\n",
    "amzn_df['pct_change'] = amzn_df['Close'].pct_change()\n",
    "amzn_df['pct_change'] = amzn_df['pct_change'].bfill()\n",
    "# Calculate the Log Return of Close Price (from prior close) and back fill NaNs\n",
    "amzn_df['log_ret'] = np.log(amzn_df['Close'] / amzn_df['Close'].shift(1))\n",
    "amzn_df['log_ret'] = amzn_df['log_ret'].bfill()\n",
    "amzn_df.head(5)"
   ]
  },
  {
   "cell_type": "code",
   "execution_count": 15,
   "metadata": {
    "scrolled": true
   },
   "outputs": [
    {
     "data": {
      "text/plain": [
       "0.2961810955094115"
      ]
     },
     "execution_count": 15,
     "metadata": {},
     "output_type": "execute_result"
    }
   ],
   "source": [
    "amzn_df['log_ret'].max()\n"
   ]
  },
  {
   "cell_type": "code",
   "execution_count": 16,
   "metadata": {
    "scrolled": true
   },
   "outputs": [
    {
     "data": {
      "text/plain": [
       "[<matplotlib.lines.Line2D at 0x11a0bf28>]"
      ]
     },
     "execution_count": 16,
     "metadata": {},
     "output_type": "execute_result"
    },
    {
     "data": {
      "image/png": "[encoded data removed]",
      "text/plain": [
       "<matplotlib.figure.Figure at 0x11abc780>"
      ]
     },
     "metadata": {},
     "output_type": "display_data"
    }
   ],
   "source": [
    "plt.plot(amzn_df['log_ret'])"
   ]
  },
  {
   "cell_type": "code",
   "execution_count": 17,
   "metadata": {
    "scrolled": true
   },
   "outputs": [
    {
     "data": {
      "text/plain": [
       "[<matplotlib.lines.Line2D at 0x11896a90>]"
      ]
     },
     "execution_count": 17,
     "metadata": {},
     "output_type": "execute_result"
    },
    {
     "data": {
      "image/png": "[encoded data removed]",
      "text/plain": [
       "<matplotlib.figure.Figure at 0x11a06a20>"
      ]
     },
     "metadata": {},
     "output_type": "display_data"
    }
   ],
   "source": [
    "plt.plot(amzn_df['Volume'])"
   ]
  },
  {
   "cell_type": "code",
   "execution_count": 18,
   "metadata": {
    "collapsed": true
   },
   "outputs": [],
   "source": [
    "# Create Inputs (Feature/Independent Variables).  The model will calculate the Weights (Coefficients)\n",
    "# use .bfill() to back fill the NaNs due to shifting the data with the last available value\n",
    "tminus1 = amzn_df['log_ret'].shift(1)\n",
    "tminus1 = tminus1.bfill()\n",
    "tminus2 = amzn_df['log_ret'].shift(2)\n",
    "tminus2 = tminus2.bfill()\n",
    "tminus3 = amzn_df['log_ret'].shift(3)\n",
    "tminus3 = tminus3.bfill()"
   ]
  },
  {
   "cell_type": "code",
   "execution_count": 19,
   "metadata": {
    "scrolled": true
   },
   "outputs": [
    {
     "data": {
      "text/html": [
       "<div>\n",
       "<style>\n",
       "    .dataframe thead tr:only-child th {\n",
       "        text-align: right;\n",
       "    }\n",
       "\n",
       "    .dataframe thead th {\n",
       "        text-align: left;\n",
       "    }\n",
       "\n",
       "    .dataframe tbody tr th {\n",
       "        vertical-align: top;\n",
       "    }\n",
       "</style>\n",
       "<table border=\"1\" class=\"dataframe\">\n",
       "  <thead>\n",
       "    <tr style=\"text-align: right;\">\n",
       "      <th></th>\n",
       "      <th>Date</th>\n",
       "      <th>Close</th>\n",
       "      <th>Volume</th>\n",
       "      <th>ticker</th>\n",
       "      <th>pct_change</th>\n",
       "      <th>log_ret</th>\n",
       "      <th>t1</th>\n",
       "      <th>t2</th>\n",
       "      <th>t3</th>\n",
       "    </tr>\n",
       "  </thead>\n",
       "  <tbody>\n",
       "    <tr>\n",
       "      <th>0</th>\n",
       "      <td>1997-05-16</td>\n",
       "      <td>1.73</td>\n",
       "      <td>14700000</td>\n",
       "      <td>amzn</td>\n",
       "      <td>-0.011561</td>\n",
       "      <td>-0.011628</td>\n",
       "      <td>-0.011628</td>\n",
       "      <td>-0.011628</td>\n",
       "      <td>-0.011628</td>\n",
       "    </tr>\n",
       "    <tr>\n",
       "      <th>1</th>\n",
       "      <td>1997-05-19</td>\n",
       "      <td>1.71</td>\n",
       "      <td>6106800</td>\n",
       "      <td>amzn</td>\n",
       "      <td>-0.011561</td>\n",
       "      <td>-0.011628</td>\n",
       "      <td>-0.011628</td>\n",
       "      <td>-0.011628</td>\n",
       "      <td>-0.011628</td>\n",
       "    </tr>\n",
       "    <tr>\n",
       "      <th>2</th>\n",
       "      <td>1997-05-20</td>\n",
       "      <td>1.64</td>\n",
       "      <td>5467200</td>\n",
       "      <td>amzn</td>\n",
       "      <td>-0.040936</td>\n",
       "      <td>-0.041797</td>\n",
       "      <td>-0.011628</td>\n",
       "      <td>-0.011628</td>\n",
       "      <td>-0.011628</td>\n",
       "    </tr>\n",
       "    <tr>\n",
       "      <th>3</th>\n",
       "      <td>1997-05-21</td>\n",
       "      <td>1.43</td>\n",
       "      <td>18853200</td>\n",
       "      <td>amzn</td>\n",
       "      <td>-0.128049</td>\n",
       "      <td>-0.137022</td>\n",
       "      <td>-0.041797</td>\n",
       "      <td>-0.011628</td>\n",
       "      <td>-0.011628</td>\n",
       "    </tr>\n",
       "    <tr>\n",
       "      <th>4</th>\n",
       "      <td>1997-05-22</td>\n",
       "      <td>1.40</td>\n",
       "      <td>11776800</td>\n",
       "      <td>amzn</td>\n",
       "      <td>-0.020979</td>\n",
       "      <td>-0.021202</td>\n",
       "      <td>-0.137022</td>\n",
       "      <td>-0.041797</td>\n",
       "      <td>-0.011628</td>\n",
       "    </tr>\n",
       "  </tbody>\n",
       "</table>\n",
       "</div>"
      ],
      "text/plain": [
       "         Date  Close    Volume ticker  pct_change   log_ret        t1  \\\n",
       "0  1997-05-16   1.73  14700000   amzn   -0.011561 -0.011628 -0.011628   \n",
       "1  1997-05-19   1.71   6106800   amzn   -0.011561 -0.011628 -0.011628   \n",
       "2  1997-05-20   1.64   5467200   amzn   -0.040936 -0.041797 -0.011628   \n",
       "3  1997-05-21   1.43  18853200   amzn   -0.128049 -0.137022 -0.041797   \n",
       "4  1997-05-22   1.40  11776800   amzn   -0.020979 -0.021202 -0.137022   \n",
       "\n",
       "         t2        t3  \n",
       "0 -0.011628 -0.011628  \n",
       "1 -0.011628 -0.011628  \n",
       "2 -0.011628 -0.011628  \n",
       "3 -0.011628 -0.011628  \n",
       "4 -0.041797 -0.011628  "
      ]
     },
     "execution_count": 19,
     "metadata": {},
     "output_type": "execute_result"
    }
   ],
   "source": [
    "# Add inputs back to dataframe\n",
    "amzn_df['t1'] = tminus1\n",
    "amzn_df['t2'] = tminus2\n",
    "amzn_df['t3'] = tminus3\n",
    "amzn_df.head(5)"
   ]
  },
  {
   "cell_type": "code",
   "execution_count": 20,
   "metadata": {},
   "outputs": [
    {
     "data": {
      "text/html": [
       "<div>\n",
       "<style>\n",
       "    .dataframe thead tr:only-child th {\n",
       "        text-align: right;\n",
       "    }\n",
       "\n",
       "    .dataframe thead th {\n",
       "        text-align: left;\n",
       "    }\n",
       "\n",
       "    .dataframe tbody tr th {\n",
       "        vertical-align: top;\n",
       "    }\n",
       "</style>\n",
       "<table border=\"1\" class=\"dataframe\">\n",
       "  <thead>\n",
       "    <tr style=\"text-align: right;\">\n",
       "      <th></th>\n",
       "      <th>log_ret</th>\n",
       "      <th>t1</th>\n",
       "      <th>t2</th>\n",
       "      <th>t3</th>\n",
       "    </tr>\n",
       "  </thead>\n",
       "  <tbody>\n",
       "    <tr>\n",
       "      <th>0</th>\n",
       "      <td>-0.011628</td>\n",
       "      <td>-0.011628</td>\n",
       "      <td>-0.011628</td>\n",
       "      <td>-0.011628</td>\n",
       "    </tr>\n",
       "    <tr>\n",
       "      <th>1</th>\n",
       "      <td>-0.011628</td>\n",
       "      <td>-0.011628</td>\n",
       "      <td>-0.011628</td>\n",
       "      <td>-0.011628</td>\n",
       "    </tr>\n",
       "    <tr>\n",
       "      <th>2</th>\n",
       "      <td>-0.041797</td>\n",
       "      <td>-0.011628</td>\n",
       "      <td>-0.011628</td>\n",
       "      <td>-0.011628</td>\n",
       "    </tr>\n",
       "    <tr>\n",
       "      <th>3</th>\n",
       "      <td>-0.137022</td>\n",
       "      <td>-0.041797</td>\n",
       "      <td>-0.011628</td>\n",
       "      <td>-0.011628</td>\n",
       "    </tr>\n",
       "    <tr>\n",
       "      <th>4</th>\n",
       "      <td>-0.021202</td>\n",
       "      <td>-0.137022</td>\n",
       "      <td>-0.041797</td>\n",
       "      <td>-0.011628</td>\n",
       "    </tr>\n",
       "  </tbody>\n",
       "</table>\n",
       "</div>"
      ],
      "text/plain": [
       "    log_ret        t1        t2        t3\n",
       "0 -0.011628 -0.011628 -0.011628 -0.011628\n",
       "1 -0.011628 -0.011628 -0.011628 -0.011628\n",
       "2 -0.041797 -0.011628 -0.011628 -0.011628\n",
       "3 -0.137022 -0.041797 -0.011628 -0.011628\n",
       "4 -0.021202 -0.137022 -0.041797 -0.011628"
      ]
     },
     "execution_count": 20,
     "metadata": {},
     "output_type": "execute_result"
    }
   ],
   "source": [
    "# Drop columns not used for particular model\n",
    "amzn_df2 = amzn_df.drop(['Date', 'Close', 'Volume', 'ticker', 'pct_change'], 1)\n",
    "amzn_df2.head()"
   ]
  },
  {
   "cell_type": "code",
   "execution_count": 21,
   "metadata": {},
   "outputs": [
    {
     "name": "stdout",
     "output_type": "stream",
     "text": [
      "5153 4\n"
     ]
    }
   ],
   "source": [
    "# Convert dataframe into numpy array for input into model\n",
    "np_array_data = amzn_df2.values\n",
    "# n = amzn_df2.shape[0]\n",
    "# p = amzn_df2.shape[1]\n",
    "# Get dimensions of data\n",
    "n = np_array_data.shape[0]\n",
    "p = np_array_data.shape[1]\n",
    "print(n, p)"
   ]
  },
  {
   "cell_type": "code",
   "execution_count": 22,
   "metadata": {
    "collapsed": true
   },
   "outputs": [],
   "source": [
    "# Divide up data into Training and Testing subsets\n",
    "train_start = 0\n",
    "train_end = int(np.floor(0.8*n))\n",
    "test_start = train_end + 1\n",
    "test_end = n\n",
    "data_train = np_array_data[np.arange(train_start, train_end), :]\n",
    "data_test = np_array_data[np.arange(test_start, test_end), :]"
   ]
  },
  {
   "cell_type": "code",
   "execution_count": 23,
   "metadata": {
    "collapsed": true
   },
   "outputs": [],
   "source": [
    "# Build X and y\n",
    "X_train = data_train[:, 1:]\n",
    "y_train = data_train[:, 0]\n",
    "X_test = data_test[:, 1:]\n",
    "y_test = data_test[:, 0]"
   ]
  },
  {
   "cell_type": "code",
   "execution_count": 24,
   "metadata": {
    "scrolled": false
   },
   "outputs": [
    {
     "data": {
      "image/png": "[encoded data removed]",
      "text/plain": [
       "<matplotlib.figure.Figure at 0x117f7cc0>"
      ]
     },
     "metadata": {},
     "output_type": "display_data"
    }
   ],
   "source": [
    "# Apply data to Linear Regression model\n",
    "from sklearn.linear_model import LinearRegression\n",
    "model = LinearRegression()\n",
    "model.fit(X_train, y_train)\n",
    "# Plot Residuals of predictions\n",
    "plt.scatter(model.predict(X_train), model.predict(X_train) - y_train, c=\"blue\", label=\"Training Data\")\n",
    "plt.scatter(model.predict(X_test), model.predict(X_test) - y_test, c=\"orange\", label=\"Testing Data\")\n",
    "plt.legend()\n",
    "plt.hlines(y=0, xmin=y_test.min(), xmax=y_test.max())\n",
    "plt.title(\"Residual Plot\")\n",
    "plt.show()"
   ]
  },
  {
   "cell_type": "code",
   "execution_count": 25,
   "metadata": {},
   "outputs": [
    {
     "name": "stdout",
     "output_type": "stream",
     "text": [
      "MSE: 0.000351932739614988, R2: -0.001682640908384547\n"
     ]
    }
   ],
   "source": [
    "# Evaluate model\n",
    "from sklearn.metrics import mean_squared_error\n",
    "predictions = model.predict(X_test)\n",
    "MSE = mean_squared_error(y_test, predictions)\n",
    "r2 = model.score(X_test, y_test)\n",
    "print(f\"MSE: {MSE}, R2: {r2}\")"
   ]
  },
  {
   "cell_type": "code",
   "execution_count": 26,
   "metadata": {
    "collapsed": true
   },
   "outputs": [],
   "source": [
    "from sklearn.linear_model import LogisticRegression"
   ]
  },
  {
   "cell_type": "code",
   "execution_count": 27,
   "metadata": {
    "scrolled": true
   },
   "outputs": [
    {
     "data": {
      "text/html": [
       "<div>\n",
       "<style>\n",
       "    .dataframe thead tr:only-child th {\n",
       "        text-align: right;\n",
       "    }\n",
       "\n",
       "    .dataframe thead th {\n",
       "        text-align: left;\n",
       "    }\n",
       "\n",
       "    .dataframe tbody tr th {\n",
       "        vertical-align: top;\n",
       "    }\n",
       "</style>\n",
       "<table border=\"1\" class=\"dataframe\">\n",
       "  <thead>\n",
       "    <tr style=\"text-align: right;\">\n",
       "      <th></th>\n",
       "      <th>Date</th>\n",
       "      <th>Close</th>\n",
       "      <th>Volume</th>\n",
       "      <th>ticker</th>\n",
       "      <th>pct_change</th>\n",
       "      <th>log_ret</th>\n",
       "      <th>t1</th>\n",
       "      <th>t2</th>\n",
       "      <th>t3</th>\n",
       "    </tr>\n",
       "  </thead>\n",
       "  <tbody>\n",
       "    <tr>\n",
       "      <th>0</th>\n",
       "      <td>1997-05-16</td>\n",
       "      <td>1.73</td>\n",
       "      <td>14700000</td>\n",
       "      <td>amzn</td>\n",
       "      <td>-0.011561</td>\n",
       "      <td>-0.011628</td>\n",
       "      <td>-0.011628</td>\n",
       "      <td>-0.011628</td>\n",
       "      <td>-0.011628</td>\n",
       "    </tr>\n",
       "    <tr>\n",
       "      <th>1</th>\n",
       "      <td>1997-05-19</td>\n",
       "      <td>1.71</td>\n",
       "      <td>6106800</td>\n",
       "      <td>amzn</td>\n",
       "      <td>-0.011561</td>\n",
       "      <td>-0.011628</td>\n",
       "      <td>-0.011628</td>\n",
       "      <td>-0.011628</td>\n",
       "      <td>-0.011628</td>\n",
       "    </tr>\n",
       "  </tbody>\n",
       "</table>\n",
       "</div>"
      ],
      "text/plain": [
       "         Date  Close    Volume ticker  pct_change   log_ret        t1  \\\n",
       "0  1997-05-16   1.73  14700000   amzn   -0.011561 -0.011628 -0.011628   \n",
       "1  1997-05-19   1.71   6106800   amzn   -0.011561 -0.011628 -0.011628   \n",
       "\n",
       "         t2        t3  \n",
       "0 -0.011628 -0.011628  \n",
       "1 -0.011628 -0.011628  "
      ]
     },
     "execution_count": 27,
     "metadata": {},
     "output_type": "execute_result"
    }
   ],
   "source": [
    "amzn_df.head(2)"
   ]
  },
  {
   "cell_type": "code",
   "execution_count": 28,
   "metadata": {},
   "outputs": [
    {
     "data": {
      "text/plain": [
       "5148    0.008150\n",
       "5149    0.002240\n",
       "5150    0.008645\n",
       "5151   -0.003310\n",
       "5152   -0.003348\n",
       "Name: pct_change, dtype: float64"
      ]
     },
     "execution_count": 28,
     "metadata": {},
     "output_type": "execute_result"
    }
   ],
   "source": [
    "testseries = amzn_df['pct_change']\n",
    "testseries.tail(5)"
   ]
  },
  {
   "cell_type": "code",
   "execution_count": 29,
   "metadata": {},
   "outputs": [
    {
     "data": {
      "text/plain": [
       "5148    1.0\n",
       "5149    1.0\n",
       "5150    1.0\n",
       "5151    0.0\n",
       "5152    0.0\n",
       "Name: pct_change, dtype: float64"
      ]
     },
     "execution_count": 29,
     "metadata": {},
     "output_type": "execute_result"
    }
   ],
   "source": [
    "testseries = testseries.where(testseries <0, 1)\n",
    "testseries = testseries.where(testseries >0, 0)\n",
    "testseries.tail(5)"
   ]
  },
  {
   "cell_type": "code",
   "execution_count": 30,
   "metadata": {},
   "outputs": [
    {
     "data": {
      "text/html": [
       "<div>\n",
       "<style>\n",
       "    .dataframe thead tr:only-child th {\n",
       "        text-align: right;\n",
       "    }\n",
       "\n",
       "    .dataframe thead th {\n",
       "        text-align: left;\n",
       "    }\n",
       "\n",
       "    .dataframe tbody tr th {\n",
       "        vertical-align: top;\n",
       "    }\n",
       "</style>\n",
       "<table border=\"1\" class=\"dataframe\">\n",
       "  <thead>\n",
       "    <tr style=\"text-align: right;\">\n",
       "      <th></th>\n",
       "      <th>Date</th>\n",
       "      <th>Close</th>\n",
       "      <th>Volume</th>\n",
       "      <th>ticker</th>\n",
       "      <th>pct_change</th>\n",
       "      <th>log_ret</th>\n",
       "      <th>t1</th>\n",
       "      <th>t2</th>\n",
       "      <th>t3</th>\n",
       "      <th>chg_from_prev</th>\n",
       "    </tr>\n",
       "  </thead>\n",
       "  <tbody>\n",
       "    <tr>\n",
       "      <th>5148</th>\n",
       "      <td>2017-11-06</td>\n",
       "      <td>1120.66</td>\n",
       "      <td>3331738</td>\n",
       "      <td>amzn</td>\n",
       "      <td>0.008150</td>\n",
       "      <td>0.008117</td>\n",
       "      <td>0.015759</td>\n",
       "      <td>-0.008608</td>\n",
       "      <td>-0.001449</td>\n",
       "      <td>1.0</td>\n",
       "    </tr>\n",
       "    <tr>\n",
       "      <th>5149</th>\n",
       "      <td>2017-11-07</td>\n",
       "      <td>1123.17</td>\n",
       "      <td>2684443</td>\n",
       "      <td>amzn</td>\n",
       "      <td>0.002240</td>\n",
       "      <td>0.002237</td>\n",
       "      <td>0.008117</td>\n",
       "      <td>0.015759</td>\n",
       "      <td>-0.008608</td>\n",
       "      <td>1.0</td>\n",
       "    </tr>\n",
       "    <tr>\n",
       "      <th>5150</th>\n",
       "      <td>2017-11-08</td>\n",
       "      <td>1132.88</td>\n",
       "      <td>2576010</td>\n",
       "      <td>amzn</td>\n",
       "      <td>0.008645</td>\n",
       "      <td>0.008608</td>\n",
       "      <td>0.002237</td>\n",
       "      <td>0.008117</td>\n",
       "      <td>0.015759</td>\n",
       "      <td>1.0</td>\n",
       "    </tr>\n",
       "    <tr>\n",
       "      <th>5151</th>\n",
       "      <td>2017-11-09</td>\n",
       "      <td>1129.13</td>\n",
       "      <td>3729978</td>\n",
       "      <td>amzn</td>\n",
       "      <td>-0.003310</td>\n",
       "      <td>-0.003316</td>\n",
       "      <td>0.008608</td>\n",
       "      <td>0.002237</td>\n",
       "      <td>0.008117</td>\n",
       "      <td>0.0</td>\n",
       "    </tr>\n",
       "    <tr>\n",
       "      <th>5152</th>\n",
       "      <td>2017-11-10</td>\n",
       "      <td>1125.35</td>\n",
       "      <td>2179181</td>\n",
       "      <td>amzn</td>\n",
       "      <td>-0.003348</td>\n",
       "      <td>-0.003353</td>\n",
       "      <td>-0.003316</td>\n",
       "      <td>0.008608</td>\n",
       "      <td>0.002237</td>\n",
       "      <td>0.0</td>\n",
       "    </tr>\n",
       "  </tbody>\n",
       "</table>\n",
       "</div>"
      ],
      "text/plain": [
       "            Date    Close   Volume ticker  pct_change   log_ret        t1  \\\n",
       "5148  2017-11-06  1120.66  3331738   amzn    0.008150  0.008117  0.015759   \n",
       "5149  2017-11-07  1123.17  2684443   amzn    0.002240  0.002237  0.008117   \n",
       "5150  2017-11-08  1132.88  2576010   amzn    0.008645  0.008608  0.002237   \n",
       "5151  2017-11-09  1129.13  3729978   amzn   -0.003310 -0.003316  0.008608   \n",
       "5152  2017-11-10  1125.35  2179181   amzn   -0.003348 -0.003353 -0.003316   \n",
       "\n",
       "            t2        t3  chg_from_prev  \n",
       "5148 -0.008608 -0.001449            1.0  \n",
       "5149  0.015759 -0.008608            1.0  \n",
       "5150  0.008117  0.015759            1.0  \n",
       "5151  0.002237  0.008117            0.0  \n",
       "5152  0.008608  0.002237            0.0  "
      ]
     },
     "execution_count": 30,
     "metadata": {},
     "output_type": "execute_result"
    }
   ],
   "source": [
    "amzn_df['chg_from_prev'] = testseries\n",
    "amzn_df.tail(5)"
   ]
  },
  {
   "cell_type": "code",
   "execution_count": 31,
   "metadata": {},
   "outputs": [
    {
     "data": {
      "text/html": [
       "<div>\n",
       "<style>\n",
       "    .dataframe thead tr:only-child th {\n",
       "        text-align: right;\n",
       "    }\n",
       "\n",
       "    .dataframe thead th {\n",
       "        text-align: left;\n",
       "    }\n",
       "\n",
       "    .dataframe tbody tr th {\n",
       "        vertical-align: top;\n",
       "    }\n",
       "</style>\n",
       "<table border=\"1\" class=\"dataframe\">\n",
       "  <thead>\n",
       "    <tr style=\"text-align: right;\">\n",
       "      <th></th>\n",
       "      <th>chg_from_prev</th>\n",
       "      <th>t1</th>\n",
       "      <th>t2</th>\n",
       "      <th>t3</th>\n",
       "    </tr>\n",
       "  </thead>\n",
       "  <tbody>\n",
       "    <tr>\n",
       "      <th>0</th>\n",
       "      <td>0.0</td>\n",
       "      <td>-0.011628</td>\n",
       "      <td>-0.011628</td>\n",
       "      <td>-0.011628</td>\n",
       "    </tr>\n",
       "    <tr>\n",
       "      <th>1</th>\n",
       "      <td>0.0</td>\n",
       "      <td>-0.011628</td>\n",
       "      <td>-0.011628</td>\n",
       "      <td>-0.011628</td>\n",
       "    </tr>\n",
       "    <tr>\n",
       "      <th>2</th>\n",
       "      <td>0.0</td>\n",
       "      <td>-0.011628</td>\n",
       "      <td>-0.011628</td>\n",
       "      <td>-0.011628</td>\n",
       "    </tr>\n",
       "    <tr>\n",
       "      <th>3</th>\n",
       "      <td>0.0</td>\n",
       "      <td>-0.041797</td>\n",
       "      <td>-0.011628</td>\n",
       "      <td>-0.011628</td>\n",
       "    </tr>\n",
       "    <tr>\n",
       "      <th>4</th>\n",
       "      <td>0.0</td>\n",
       "      <td>-0.137022</td>\n",
       "      <td>-0.041797</td>\n",
       "      <td>-0.011628</td>\n",
       "    </tr>\n",
       "  </tbody>\n",
       "</table>\n",
       "</div>"
      ],
      "text/plain": [
       "   chg_from_prev        t1        t2        t3\n",
       "0            0.0 -0.011628 -0.011628 -0.011628\n",
       "1            0.0 -0.011628 -0.011628 -0.011628\n",
       "2            0.0 -0.011628 -0.011628 -0.011628\n",
       "3            0.0 -0.041797 -0.011628 -0.011628\n",
       "4            0.0 -0.137022 -0.041797 -0.011628"
      ]
     },
     "execution_count": 31,
     "metadata": {},
     "output_type": "execute_result"
    }
   ],
   "source": [
    "amzn_df3 = amzn_df[['chg_from_prev', 't1', 't2', 't3']]\n",
    "amzn_df3.head()"
   ]
  },
  {
   "cell_type": "code",
   "execution_count": 32,
   "metadata": {},
   "outputs": [
    {
     "name": "stdout",
     "output_type": "stream",
     "text": [
      "5153 4\n"
     ]
    }
   ],
   "source": [
    "np_array_data2 = amzn_df3.values\n",
    "# n = amzn_df2.shape[0]\n",
    "# p = amzn_df2.shape[1]\n",
    "# Get dimensions of data\n",
    "n = np_array_data2.shape[0]\n",
    "p = np_array_data2.shape[1]\n",
    "print(n, p)"
   ]
  },
  {
   "cell_type": "code",
   "execution_count": 33,
   "metadata": {
    "collapsed": true
   },
   "outputs": [],
   "source": [
    "# Divide up data into Training and Testing subsets\n",
    "train_start = 0\n",
    "train_end = int(np.floor(0.8*n))\n",
    "test_start = train_end + 1\n",
    "test_end = n\n",
    "data_train = np_array_data2[np.arange(train_start, train_end), :]\n",
    "data_test = np_array_data2[np.arange(test_start, test_end), :]\n",
    "# Build X and y\n",
    "X_train = data_train[:, 1:]\n",
    "y_train = data_train[:, 0]\n",
    "X_test = data_test[:, 1:]\n",
    "y_test = data_test[:, 0]"
   ]
  },
  {
   "cell_type": "code",
   "execution_count": 34,
   "metadata": {},
   "outputs": [
    {
     "name": "stdout",
     "output_type": "stream",
     "text": [
      "Training Data Score: 0.509946627850558\n",
      "Testing Data Score: 0.5213592233009708\n"
     ]
    }
   ],
   "source": [
    "classifier = LogisticRegression()\n",
    "classifier.fit(X_train, y_train)\n",
    "print(f\"Training Data Score: {classifier.score(X_train, y_train)}\")\n",
    "print(f\"Testing Data Score: {classifier.score(X_test, y_test)}\")"
   ]
  },
  {
   "cell_type": "code",
   "execution_count": 35,
   "metadata": {},
   "outputs": [
    {
     "data": {
      "text/html": [
       "<div>\n",
       "<style>\n",
       "    .dataframe thead tr:only-child th {\n",
       "        text-align: right;\n",
       "    }\n",
       "\n",
       "    .dataframe thead th {\n",
       "        text-align: left;\n",
       "    }\n",
       "\n",
       "    .dataframe tbody tr th {\n",
       "        vertical-align: top;\n",
       "    }\n",
       "</style>\n",
       "<table border=\"1\" class=\"dataframe\">\n",
       "  <thead>\n",
       "    <tr style=\"text-align: right;\">\n",
       "      <th></th>\n",
       "      <th>Actual</th>\n",
       "      <th>Prediction</th>\n",
       "    </tr>\n",
       "  </thead>\n",
       "  <tbody>\n",
       "    <tr>\n",
       "      <th>0</th>\n",
       "      <td>1.0</td>\n",
       "      <td>1.0</td>\n",
       "    </tr>\n",
       "    <tr>\n",
       "      <th>1</th>\n",
       "      <td>0.0</td>\n",
       "      <td>0.0</td>\n",
       "    </tr>\n",
       "    <tr>\n",
       "      <th>2</th>\n",
       "      <td>0.0</td>\n",
       "      <td>0.0</td>\n",
       "    </tr>\n",
       "    <tr>\n",
       "      <th>3</th>\n",
       "      <td>1.0</td>\n",
       "      <td>1.0</td>\n",
       "    </tr>\n",
       "    <tr>\n",
       "      <th>4</th>\n",
       "      <td>1.0</td>\n",
       "      <td>1.0</td>\n",
       "    </tr>\n",
       "    <tr>\n",
       "      <th>5</th>\n",
       "      <td>1.0</td>\n",
       "      <td>0.0</td>\n",
       "    </tr>\n",
       "    <tr>\n",
       "      <th>6</th>\n",
       "      <td>0.0</td>\n",
       "      <td>0.0</td>\n",
       "    </tr>\n",
       "    <tr>\n",
       "      <th>7</th>\n",
       "      <td>1.0</td>\n",
       "      <td>0.0</td>\n",
       "    </tr>\n",
       "    <tr>\n",
       "      <th>8</th>\n",
       "      <td>0.0</td>\n",
       "      <td>0.0</td>\n",
       "    </tr>\n",
       "    <tr>\n",
       "      <th>9</th>\n",
       "      <td>1.0</td>\n",
       "      <td>0.0</td>\n",
       "    </tr>\n",
       "  </tbody>\n",
       "</table>\n",
       "</div>"
      ],
      "text/plain": [
       "   Actual  Prediction\n",
       "0     1.0         1.0\n",
       "1     0.0         0.0\n",
       "2     0.0         0.0\n",
       "3     1.0         1.0\n",
       "4     1.0         1.0\n",
       "5     1.0         0.0\n",
       "6     0.0         0.0\n",
       "7     1.0         0.0\n",
       "8     0.0         0.0\n",
       "9     1.0         0.0"
      ]
     },
     "execution_count": 35,
     "metadata": {},
     "output_type": "execute_result"
    }
   ],
   "source": [
    "predictions = classifier.predict(X_test)\n",
    "pd.DataFrame({\"Prediction\": predictions, \"Actual\": y_test}).head(10)"
   ]
  },
  {
   "cell_type": "code",
   "execution_count": null,
   "metadata": {
    "collapsed": true
   },
   "outputs": [],
   "source": []
  }
 ],
 "metadata": {
  "kernelspec": {
   "display_name": "Python (pdata)",
   "language": "python",
   "name": "pdata"
  },
  "language_info": {
   "codemirror_mode": {
    "name": "ipython",
    "version": 3
   },
   "file_extension": ".py",
   "mimetype": "text/x-python",
   "name": "python",
   "nbconvert_exporter": "python",
   "pygments_lexer": "ipython3",
   "version": "3.6.4"
  }
 },
 "nbformat": 4,
 "nbformat_minor": 2
}
