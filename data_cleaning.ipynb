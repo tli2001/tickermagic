{
 "cells": [
  {
   "cell_type": "code",
   "execution_count": 110,
   "metadata": {},
   "outputs": [],
   "source": [
    "%matplotlib inline\n",
    "\n",
    "import os\n",
    "import pandas as pd\n",
    "import numpy as np\n",
    "import glob\n",
    "import matplotlib.pyplot as plt\n",
    "\n",
    "from sklearn.linear_model import LinearRegression\n",
    "from sklearn.preprocessing import StandardScaler\n",
    "model = LinearRegression()"
   ]
  },
  {
   "cell_type": "code",
   "execution_count": 2,
   "metadata": {},
   "outputs": [
    {
     "data": {
      "text/plain": [
       "'C:/Users/Tony/Desktop/BootcampFiles/GitHub/tickermagic/data/stocks\\\\a.us.txt'"
      ]
     },
     "execution_count": 2,
     "metadata": {},
     "output_type": "execute_result"
    }
   ],
   "source": [
    "# Pull each txt file in stocks folder into a list of files\n",
    "path = 'C:/Users/Tony/Desktop/BootcampFiles/GitHub/tickermagic/data/stocks/'\n",
    "filepaths = glob.glob('C:/Users/Tony/Desktop/BootcampFiles/GitHub/tickermagic/data/stocks/*.txt')\n",
    "filepaths[0]"
   ]
  },
  {
   "cell_type": "code",
   "execution_count": 3,
   "metadata": {},
   "outputs": [
    {
     "data": {
      "text/html": [
       "<div>\n",
       "<style>\n",
       "    .dataframe thead tr:only-child th {\n",
       "        text-align: right;\n",
       "    }\n",
       "\n",
       "    .dataframe thead th {\n",
       "        text-align: left;\n",
       "    }\n",
       "\n",
       "    .dataframe tbody tr th {\n",
       "        vertical-align: top;\n",
       "    }\n",
       "</style>\n",
       "<table border=\"1\" class=\"dataframe\">\n",
       "  <thead>\n",
       "    <tr style=\"text-align: right;\">\n",
       "      <th></th>\n",
       "      <th>Date</th>\n",
       "      <th>Open</th>\n",
       "      <th>High</th>\n",
       "      <th>Low</th>\n",
       "      <th>Close</th>\n",
       "      <th>Volume</th>\n",
       "      <th>OpenInt</th>\n",
       "    </tr>\n",
       "  </thead>\n",
       "  <tbody>\n",
       "    <tr>\n",
       "      <th>0</th>\n",
       "      <td>1999-11-18</td>\n",
       "      <td>30.713</td>\n",
       "      <td>33.754</td>\n",
       "      <td>27.002</td>\n",
       "      <td>29.702</td>\n",
       "      <td>66277506</td>\n",
       "      <td>0</td>\n",
       "    </tr>\n",
       "    <tr>\n",
       "      <th>1</th>\n",
       "      <td>1999-11-19</td>\n",
       "      <td>28.986</td>\n",
       "      <td>29.027</td>\n",
       "      <td>26.872</td>\n",
       "      <td>27.257</td>\n",
       "      <td>16142920</td>\n",
       "      <td>0</td>\n",
       "    </tr>\n",
       "    <tr>\n",
       "      <th>2</th>\n",
       "      <td>1999-11-22</td>\n",
       "      <td>27.886</td>\n",
       "      <td>29.702</td>\n",
       "      <td>27.044</td>\n",
       "      <td>29.702</td>\n",
       "      <td>6970266</td>\n",
       "      <td>0</td>\n",
       "    </tr>\n",
       "    <tr>\n",
       "      <th>3</th>\n",
       "      <td>1999-11-23</td>\n",
       "      <td>28.688</td>\n",
       "      <td>29.446</td>\n",
       "      <td>27.002</td>\n",
       "      <td>27.002</td>\n",
       "      <td>6332082</td>\n",
       "      <td>0</td>\n",
       "    </tr>\n",
       "    <tr>\n",
       "      <th>4</th>\n",
       "      <td>1999-11-24</td>\n",
       "      <td>27.083</td>\n",
       "      <td>28.309</td>\n",
       "      <td>27.002</td>\n",
       "      <td>27.717</td>\n",
       "      <td>5132147</td>\n",
       "      <td>0</td>\n",
       "    </tr>\n",
       "  </tbody>\n",
       "</table>\n",
       "</div>"
      ],
      "text/plain": [
       "         Date    Open    High     Low   Close    Volume  OpenInt\n",
       "0  1999-11-18  30.713  33.754  27.002  29.702  66277506        0\n",
       "1  1999-11-19  28.986  29.027  26.872  27.257  16142920        0\n",
       "2  1999-11-22  27.886  29.702  27.044  29.702   6970266        0\n",
       "3  1999-11-23  28.688  29.446  27.002  27.002   6332082        0\n",
       "4  1999-11-24  27.083  28.309  27.002  27.717   5132147        0"
      ]
     },
     "execution_count": 3,
     "metadata": {},
     "output_type": "execute_result"
    }
   ],
   "source": [
    "# for each file, read into a pandas dataframe in a list of dataframes\n",
    "tickerlist = [pd.read_csv(filepath) for filepath in filepaths]\n",
    "tickerlist[0].head(5)"
   ]
  },
  {
   "cell_type": "code",
   "execution_count": 4,
   "metadata": {},
   "outputs": [
    {
     "data": {
      "text/plain": [
       "['a.us.txt',\n",
       " 'aapl.us.txt',\n",
       " 'amzn.us.txt',\n",
       " 'bac.us.txt',\n",
       " 'f.us.txt',\n",
       " 'jp.us.txt',\n",
       " 'nflx.us.txt',\n",
       " 'pcg.us.txt',\n",
       " 'tsla.us.txt',\n",
       " 'yy.us.txt']"
      ]
     },
     "execution_count": 4,
     "metadata": {},
     "output_type": "execute_result"
    }
   ],
   "source": [
    "tickernamelist = [os.path.relpath(filepath, path) for filepath in filepaths]\n",
    "tickernamelist"
   ]
  },
  {
   "cell_type": "code",
   "execution_count": 5,
   "metadata": {},
   "outputs": [
    {
     "data": {
      "text/plain": [
       "['a', 'aapl', 'amzn', 'bac', 'f', 'jp', 'nflx', 'pcg', 'tsla', 'yy']"
      ]
     },
     "execution_count": 5,
     "metadata": {},
     "output_type": "execute_result"
    }
   ],
   "source": [
    "tickernamelist = [ticker.replace('.us.txt','') for ticker in tickernamelist]\n",
    "tickernamelist"
   ]
  },
  {
   "cell_type": "code",
   "execution_count": 6,
   "metadata": {},
   "outputs": [],
   "source": [
    "for ticker, tickername in zip(tickerlist, tickernamelist):\n",
    "    ticker['ticker'] = tickername"
   ]
  },
  {
   "cell_type": "code",
   "execution_count": 7,
   "metadata": {},
   "outputs": [
    {
     "data": {
      "text/html": [
       "<div>\n",
       "<style>\n",
       "    .dataframe thead tr:only-child th {\n",
       "        text-align: right;\n",
       "    }\n",
       "\n",
       "    .dataframe thead th {\n",
       "        text-align: left;\n",
       "    }\n",
       "\n",
       "    .dataframe tbody tr th {\n",
       "        vertical-align: top;\n",
       "    }\n",
       "</style>\n",
       "<table border=\"1\" class=\"dataframe\">\n",
       "  <thead>\n",
       "    <tr style=\"text-align: right;\">\n",
       "      <th></th>\n",
       "      <th>Date</th>\n",
       "      <th>Open</th>\n",
       "      <th>High</th>\n",
       "      <th>Low</th>\n",
       "      <th>Close</th>\n",
       "      <th>Volume</th>\n",
       "      <th>OpenInt</th>\n",
       "      <th>ticker</th>\n",
       "    </tr>\n",
       "  </thead>\n",
       "  <tbody>\n",
       "    <tr>\n",
       "      <th>0</th>\n",
       "      <td>2012-11-21</td>\n",
       "      <td>10.50</td>\n",
       "      <td>11.75</td>\n",
       "      <td>10.50</td>\n",
       "      <td>11.31</td>\n",
       "      <td>4567029</td>\n",
       "      <td>0</td>\n",
       "      <td>yy</td>\n",
       "    </tr>\n",
       "    <tr>\n",
       "      <th>1</th>\n",
       "      <td>2012-11-23</td>\n",
       "      <td>11.57</td>\n",
       "      <td>11.76</td>\n",
       "      <td>11.20</td>\n",
       "      <td>11.32</td>\n",
       "      <td>236917</td>\n",
       "      <td>0</td>\n",
       "      <td>yy</td>\n",
       "    </tr>\n",
       "    <tr>\n",
       "      <th>2</th>\n",
       "      <td>2012-11-26</td>\n",
       "      <td>11.50</td>\n",
       "      <td>11.50</td>\n",
       "      <td>10.81</td>\n",
       "      <td>11.30</td>\n",
       "      <td>257287</td>\n",
       "      <td>0</td>\n",
       "      <td>yy</td>\n",
       "    </tr>\n",
       "    <tr>\n",
       "      <th>3</th>\n",
       "      <td>2012-11-27</td>\n",
       "      <td>11.40</td>\n",
       "      <td>12.99</td>\n",
       "      <td>11.17</td>\n",
       "      <td>12.20</td>\n",
       "      <td>460347</td>\n",
       "      <td>0</td>\n",
       "      <td>yy</td>\n",
       "    </tr>\n",
       "    <tr>\n",
       "      <th>4</th>\n",
       "      <td>2012-11-28</td>\n",
       "      <td>12.29</td>\n",
       "      <td>13.15</td>\n",
       "      <td>12.18</td>\n",
       "      <td>13.00</td>\n",
       "      <td>740654</td>\n",
       "      <td>0</td>\n",
       "      <td>yy</td>\n",
       "    </tr>\n",
       "  </tbody>\n",
       "</table>\n",
       "</div>"
      ],
      "text/plain": [
       "         Date   Open   High    Low  Close   Volume  OpenInt ticker\n",
       "0  2012-11-21  10.50  11.75  10.50  11.31  4567029        0     yy\n",
       "1  2012-11-23  11.57  11.76  11.20  11.32   236917        0     yy\n",
       "2  2012-11-26  11.50  11.50  10.81  11.30   257287        0     yy\n",
       "3  2012-11-27  11.40  12.99  11.17  12.20   460347        0     yy\n",
       "4  2012-11-28  12.29  13.15  12.18  13.00   740654        0     yy"
      ]
     },
     "execution_count": 7,
     "metadata": {},
     "output_type": "execute_result"
    }
   ],
   "source": [
    "tickerlist[-1].head(5)"
   ]
  },
  {
   "cell_type": "code",
   "execution_count": 14,
   "metadata": {},
   "outputs": [
    {
     "data": {
      "text/html": [
       "<div>\n",
       "<style>\n",
       "    .dataframe thead tr:only-child th {\n",
       "        text-align: right;\n",
       "    }\n",
       "\n",
       "    .dataframe thead th {\n",
       "        text-align: left;\n",
       "    }\n",
       "\n",
       "    .dataframe tbody tr th {\n",
       "        vertical-align: top;\n",
       "    }\n",
       "</style>\n",
       "<table border=\"1\" class=\"dataframe\">\n",
       "  <thead>\n",
       "    <tr style=\"text-align: right;\">\n",
       "      <th></th>\n",
       "      <th>Date</th>\n",
       "      <th>Open</th>\n",
       "      <th>High</th>\n",
       "      <th>Low</th>\n",
       "      <th>Close</th>\n",
       "      <th>Volume</th>\n",
       "      <th>OpenInt</th>\n",
       "      <th>ticker</th>\n",
       "    </tr>\n",
       "  </thead>\n",
       "  <tbody>\n",
       "    <tr>\n",
       "      <th>0</th>\n",
       "      <td>1997-05-16</td>\n",
       "      <td>1.97</td>\n",
       "      <td>1.98</td>\n",
       "      <td>1.71</td>\n",
       "      <td>1.73</td>\n",
       "      <td>14700000</td>\n",
       "      <td>0</td>\n",
       "      <td>amzn</td>\n",
       "    </tr>\n",
       "    <tr>\n",
       "      <th>1</th>\n",
       "      <td>1997-05-19</td>\n",
       "      <td>1.76</td>\n",
       "      <td>1.77</td>\n",
       "      <td>1.62</td>\n",
       "      <td>1.71</td>\n",
       "      <td>6106800</td>\n",
       "      <td>0</td>\n",
       "      <td>amzn</td>\n",
       "    </tr>\n",
       "  </tbody>\n",
       "</table>\n",
       "</div>"
      ],
      "text/plain": [
       "         Date  Open  High   Low  Close    Volume  OpenInt ticker\n",
       "0  1997-05-16  1.97  1.98  1.71   1.73  14700000        0   amzn\n",
       "1  1997-05-19  1.76  1.77  1.62   1.71   6106800        0   amzn"
      ]
     },
     "execution_count": 14,
     "metadata": {},
     "output_type": "execute_result"
    }
   ],
   "source": [
    "amzn_df = tickerlist[2]\n",
    "amzn_df.head(2)"
   ]
  },
  {
   "cell_type": "code",
   "execution_count": 17,
   "metadata": {},
   "outputs": [
    {
     "data": {
      "text/html": [
       "<div>\n",
       "<style>\n",
       "    .dataframe thead tr:only-child th {\n",
       "        text-align: right;\n",
       "    }\n",
       "\n",
       "    .dataframe thead th {\n",
       "        text-align: left;\n",
       "    }\n",
       "\n",
       "    .dataframe tbody tr th {\n",
       "        vertical-align: top;\n",
       "    }\n",
       "</style>\n",
       "<table border=\"1\" class=\"dataframe\">\n",
       "  <thead>\n",
       "    <tr style=\"text-align: right;\">\n",
       "      <th></th>\n",
       "      <th>Date</th>\n",
       "      <th>Close</th>\n",
       "      <th>Volume</th>\n",
       "      <th>ticker</th>\n",
       "    </tr>\n",
       "  </thead>\n",
       "  <tbody>\n",
       "    <tr>\n",
       "      <th>0</th>\n",
       "      <td>1997-05-16</td>\n",
       "      <td>1.73</td>\n",
       "      <td>14700000</td>\n",
       "      <td>amzn</td>\n",
       "    </tr>\n",
       "    <tr>\n",
       "      <th>1</th>\n",
       "      <td>1997-05-19</td>\n",
       "      <td>1.71</td>\n",
       "      <td>6106800</td>\n",
       "      <td>amzn</td>\n",
       "    </tr>\n",
       "  </tbody>\n",
       "</table>\n",
       "</div>"
      ],
      "text/plain": [
       "         Date  Close    Volume ticker\n",
       "0  1997-05-16   1.73  14700000   amzn\n",
       "1  1997-05-19   1.71   6106800   amzn"
      ]
     },
     "execution_count": 17,
     "metadata": {},
     "output_type": "execute_result"
    }
   ],
   "source": [
    "amzn_df = amzn_df.drop(['Open', 'High', 'Low', 'OpenInt'], axis=1)\n",
    "amzn_df.head(2)"
   ]
  },
  {
   "cell_type": "code",
   "execution_count": 24,
   "metadata": {},
   "outputs": [
    {
     "data": {
      "image/png": "[encoded data removed]",
      "text/plain": [
       "<matplotlib.figure.Figure at 0x11408da0>"
      ]
     },
     "metadata": {},
     "output_type": "display_data"
    }
   ],
   "source": [
    "plt.plot(amzn_df['Date'], amzn_df['Close'])\n",
    "plt.show()"
   ]
  },
  {
   "cell_type": "code",
   "execution_count": 8,
   "metadata": {},
   "outputs": [
    {
     "data": {
      "text/html": [
       "<div>\n",
       "<style>\n",
       "    .dataframe thead tr:only-child th {\n",
       "        text-align: right;\n",
       "    }\n",
       "\n",
       "    .dataframe thead th {\n",
       "        text-align: left;\n",
       "    }\n",
       "\n",
       "    .dataframe tbody tr th {\n",
       "        vertical-align: top;\n",
       "    }\n",
       "</style>\n",
       "<table border=\"1\" class=\"dataframe\">\n",
       "  <thead>\n",
       "    <tr style=\"text-align: right;\">\n",
       "      <th></th>\n",
       "      <th>Date</th>\n",
       "      <th>Open</th>\n",
       "      <th>High</th>\n",
       "      <th>Low</th>\n",
       "      <th>Close</th>\n",
       "      <th>Volume</th>\n",
       "      <th>OpenInt</th>\n",
       "      <th>ticker</th>\n",
       "    </tr>\n",
       "  </thead>\n",
       "  <tbody>\n",
       "    <tr>\n",
       "      <th>0</th>\n",
       "      <td>1999-11-18</td>\n",
       "      <td>30.713</td>\n",
       "      <td>33.754</td>\n",
       "      <td>27.002</td>\n",
       "      <td>29.702</td>\n",
       "      <td>66277506</td>\n",
       "      <td>0</td>\n",
       "      <td>a</td>\n",
       "    </tr>\n",
       "    <tr>\n",
       "      <th>1</th>\n",
       "      <td>1999-11-19</td>\n",
       "      <td>28.986</td>\n",
       "      <td>29.027</td>\n",
       "      <td>26.872</td>\n",
       "      <td>27.257</td>\n",
       "      <td>16142920</td>\n",
       "      <td>0</td>\n",
       "      <td>a</td>\n",
       "    </tr>\n",
       "    <tr>\n",
       "      <th>2</th>\n",
       "      <td>1999-11-22</td>\n",
       "      <td>27.886</td>\n",
       "      <td>29.702</td>\n",
       "      <td>27.044</td>\n",
       "      <td>29.702</td>\n",
       "      <td>6970266</td>\n",
       "      <td>0</td>\n",
       "      <td>a</td>\n",
       "    </tr>\n",
       "    <tr>\n",
       "      <th>3</th>\n",
       "      <td>1999-11-23</td>\n",
       "      <td>28.688</td>\n",
       "      <td>29.446</td>\n",
       "      <td>27.002</td>\n",
       "      <td>27.002</td>\n",
       "      <td>6332082</td>\n",
       "      <td>0</td>\n",
       "      <td>a</td>\n",
       "    </tr>\n",
       "    <tr>\n",
       "      <th>4</th>\n",
       "      <td>1999-11-24</td>\n",
       "      <td>27.083</td>\n",
       "      <td>28.309</td>\n",
       "      <td>27.002</td>\n",
       "      <td>27.717</td>\n",
       "      <td>5132147</td>\n",
       "      <td>0</td>\n",
       "      <td>a</td>\n",
       "    </tr>\n",
       "  </tbody>\n",
       "</table>\n",
       "</div>"
      ],
      "text/plain": [
       "         Date    Open    High     Low   Close    Volume  OpenInt ticker\n",
       "0  1999-11-18  30.713  33.754  27.002  29.702  66277506        0      a\n",
       "1  1999-11-19  28.986  29.027  26.872  27.257  16142920        0      a\n",
       "2  1999-11-22  27.886  29.702  27.044  29.702   6970266        0      a\n",
       "3  1999-11-23  28.688  29.446  27.002  27.002   6332082        0      a\n",
       "4  1999-11-24  27.083  28.309  27.002  27.717   5132147        0      a"
      ]
     },
     "execution_count": 8,
     "metadata": {},
     "output_type": "execute_result"
    }
   ],
   "source": [
    "alltickers_df = pd.concat(tickerlist, ignore_index=True)\n",
    "alltickers_df.head(5)"
   ]
  },
  {
   "cell_type": "code",
   "execution_count": 9,
   "metadata": {
    "scrolled": true
   },
   "outputs": [
    {
     "data": {
      "text/html": [
       "<div>\n",
       "<style>\n",
       "    .dataframe thead tr:only-child th {\n",
       "        text-align: right;\n",
       "    }\n",
       "\n",
       "    .dataframe thead th {\n",
       "        text-align: left;\n",
       "    }\n",
       "\n",
       "    .dataframe tbody tr th {\n",
       "        vertical-align: top;\n",
       "    }\n",
       "</style>\n",
       "<table border=\"1\" class=\"dataframe\">\n",
       "  <thead>\n",
       "    <tr style=\"text-align: right;\">\n",
       "      <th></th>\n",
       "      <th>Date</th>\n",
       "      <th>Open</th>\n",
       "      <th>High</th>\n",
       "      <th>Low</th>\n",
       "      <th>Close</th>\n",
       "      <th>Volume</th>\n",
       "      <th>OpenInt</th>\n",
       "      <th>ticker</th>\n",
       "    </tr>\n",
       "  </thead>\n",
       "  <tbody>\n",
       "    <tr>\n",
       "      <th>52687</th>\n",
       "      <td>2017-11-06</td>\n",
       "      <td>90.90</td>\n",
       "      <td>93.75</td>\n",
       "      <td>90.51</td>\n",
       "      <td>92.35</td>\n",
       "      <td>984511</td>\n",
       "      <td>0</td>\n",
       "      <td>yy</td>\n",
       "    </tr>\n",
       "    <tr>\n",
       "      <th>52688</th>\n",
       "      <td>2017-11-07</td>\n",
       "      <td>92.97</td>\n",
       "      <td>94.27</td>\n",
       "      <td>91.06</td>\n",
       "      <td>91.36</td>\n",
       "      <td>636653</td>\n",
       "      <td>0</td>\n",
       "      <td>yy</td>\n",
       "    </tr>\n",
       "    <tr>\n",
       "      <th>52689</th>\n",
       "      <td>2017-11-08</td>\n",
       "      <td>91.10</td>\n",
       "      <td>91.76</td>\n",
       "      <td>87.73</td>\n",
       "      <td>89.40</td>\n",
       "      <td>1116162</td>\n",
       "      <td>0</td>\n",
       "      <td>yy</td>\n",
       "    </tr>\n",
       "    <tr>\n",
       "      <th>52690</th>\n",
       "      <td>2017-11-09</td>\n",
       "      <td>88.72</td>\n",
       "      <td>91.09</td>\n",
       "      <td>88.39</td>\n",
       "      <td>90.65</td>\n",
       "      <td>821527</td>\n",
       "      <td>0</td>\n",
       "      <td>yy</td>\n",
       "    </tr>\n",
       "    <tr>\n",
       "      <th>52691</th>\n",
       "      <td>2017-11-10</td>\n",
       "      <td>89.77</td>\n",
       "      <td>90.40</td>\n",
       "      <td>88.08</td>\n",
       "      <td>88.92</td>\n",
       "      <td>550619</td>\n",
       "      <td>0</td>\n",
       "      <td>yy</td>\n",
       "    </tr>\n",
       "  </tbody>\n",
       "</table>\n",
       "</div>"
      ],
      "text/plain": [
       "             Date   Open   High    Low  Close   Volume  OpenInt ticker\n",
       "52687  2017-11-06  90.90  93.75  90.51  92.35   984511        0     yy\n",
       "52688  2017-11-07  92.97  94.27  91.06  91.36   636653        0     yy\n",
       "52689  2017-11-08  91.10  91.76  87.73  89.40  1116162        0     yy\n",
       "52690  2017-11-09  88.72  91.09  88.39  90.65   821527        0     yy\n",
       "52691  2017-11-10  89.77  90.40  88.08  88.92   550619        0     yy"
      ]
     },
     "execution_count": 9,
     "metadata": {},
     "output_type": "execute_result"
    }
   ],
   "source": [
    "alltickers_df.tail(5)"
   ]
  },
  {
   "cell_type": "code",
   "execution_count": 26,
   "metadata": {},
   "outputs": [],
   "source": [
    "from sklearn.linear_model import LinearRegression\n"
   ]
  },
  {
   "cell_type": "code",
   "execution_count": 27,
   "metadata": {},
   "outputs": [
    {
     "data": {
      "text/html": [
       "<div>\n",
       "<style>\n",
       "    .dataframe thead tr:only-child th {\n",
       "        text-align: right;\n",
       "    }\n",
       "\n",
       "    .dataframe thead th {\n",
       "        text-align: left;\n",
       "    }\n",
       "\n",
       "    .dataframe tbody tr th {\n",
       "        vertical-align: top;\n",
       "    }\n",
       "</style>\n",
       "<table border=\"1\" class=\"dataframe\">\n",
       "  <thead>\n",
       "    <tr style=\"text-align: right;\">\n",
       "      <th></th>\n",
       "      <th>Date</th>\n",
       "      <th>Close</th>\n",
       "      <th>Volume</th>\n",
       "      <th>ticker</th>\n",
       "    </tr>\n",
       "  </thead>\n",
       "  <tbody>\n",
       "    <tr>\n",
       "      <th>0</th>\n",
       "      <td>1997-05-16</td>\n",
       "      <td>1.73</td>\n",
       "      <td>14700000</td>\n",
       "      <td>amzn</td>\n",
       "    </tr>\n",
       "    <tr>\n",
       "      <th>1</th>\n",
       "      <td>1997-05-19</td>\n",
       "      <td>1.71</td>\n",
       "      <td>6106800</td>\n",
       "      <td>amzn</td>\n",
       "    </tr>\n",
       "  </tbody>\n",
       "</table>\n",
       "</div>"
      ],
      "text/plain": [
       "         Date  Close    Volume ticker\n",
       "0  1997-05-16   1.73  14700000   amzn\n",
       "1  1997-05-19   1.71   6106800   amzn"
      ]
     },
     "execution_count": 27,
     "metadata": {},
     "output_type": "execute_result"
    }
   ],
   "source": [
    "amzn_df.head(2)"
   ]
  },
  {
   "cell_type": "code",
   "execution_count": 29,
   "metadata": {
    "scrolled": true
   },
   "outputs": [
    {
     "name": "stdout",
     "output_type": "stream",
     "text": [
      "(5153, 2) (5153, 1)\n"
     ]
    }
   ],
   "source": [
    "X = amzn_df[[\"Date\", \"Volume\"]]\n",
    "y = amzn_df[\"Close\"].values.reshape(-1, 1)\n",
    "print(X.shape, y.shape)"
   ]
  },
  {
   "cell_type": "code",
   "execution_count": 35,
   "metadata": {},
   "outputs": [
    {
     "name": "stderr",
     "output_type": "stream",
     "text": [
      "C:\\Users\\Tony\\AppData\\Local\\conda\\conda\\envs\\pdata\\lib\\site-packages\\ipykernel_launcher.py:1: SettingWithCopyWarning: \n",
      "A value is trying to be set on a copy of a slice from a DataFrame.\n",
      "Try using .loc[row_indexer,col_indexer] = value instead\n",
      "\n",
      "See the caveats in the documentation: http://pandas.pydata.org/pandas-docs/stable/indexing.html#indexing-view-versus-copy\n",
      "  \"\"\"Entry point for launching an IPython kernel.\n"
     ]
    }
   ],
   "source": [
    "X['Date'] = pd.to_datetime(X['Date'])"
   ]
  },
  {
   "cell_type": "code",
   "execution_count": 40,
   "metadata": {},
   "outputs": [
    {
     "data": {
      "text/plain": [
       "Timestamp('1997-05-16 00:00:00')"
      ]
     },
     "execution_count": 40,
     "metadata": {},
     "output_type": "execute_result"
    }
   ],
   "source": [
    "X['Date'][0]"
   ]
  },
  {
   "cell_type": "code",
   "execution_count": 46,
   "metadata": {},
   "outputs": [],
   "source": [
    "amzn_df['pct_change'] = amzn_df['Close'].pct_change()"
   ]
  },
  {
   "cell_type": "code",
   "execution_count": 49,
   "metadata": {
    "scrolled": false
   },
   "outputs": [
    {
     "data": {
      "text/html": [
       "<div>\n",
       "<style>\n",
       "    .dataframe thead tr:only-child th {\n",
       "        text-align: right;\n",
       "    }\n",
       "\n",
       "    .dataframe thead th {\n",
       "        text-align: left;\n",
       "    }\n",
       "\n",
       "    .dataframe tbody tr th {\n",
       "        vertical-align: top;\n",
       "    }\n",
       "</style>\n",
       "<table border=\"1\" class=\"dataframe\">\n",
       "  <thead>\n",
       "    <tr style=\"text-align: right;\">\n",
       "      <th></th>\n",
       "      <th>Date</th>\n",
       "      <th>Close</th>\n",
       "      <th>Volume</th>\n",
       "      <th>ticker</th>\n",
       "      <th>pct_change</th>\n",
       "      <th>log_ret</th>\n",
       "    </tr>\n",
       "  </thead>\n",
       "  <tbody>\n",
       "    <tr>\n",
       "      <th>0</th>\n",
       "      <td>1997-05-16</td>\n",
       "      <td>1.73</td>\n",
       "      <td>14700000</td>\n",
       "      <td>amzn</td>\n",
       "      <td>NaN</td>\n",
       "      <td>NaN</td>\n",
       "    </tr>\n",
       "    <tr>\n",
       "      <th>1</th>\n",
       "      <td>1997-05-19</td>\n",
       "      <td>1.71</td>\n",
       "      <td>6106800</td>\n",
       "      <td>amzn</td>\n",
       "      <td>-0.011561</td>\n",
       "      <td>-0.011628</td>\n",
       "    </tr>\n",
       "    <tr>\n",
       "      <th>2</th>\n",
       "      <td>1997-05-20</td>\n",
       "      <td>1.64</td>\n",
       "      <td>5467200</td>\n",
       "      <td>amzn</td>\n",
       "      <td>-0.040936</td>\n",
       "      <td>-0.041797</td>\n",
       "    </tr>\n",
       "    <tr>\n",
       "      <th>3</th>\n",
       "      <td>1997-05-21</td>\n",
       "      <td>1.43</td>\n",
       "      <td>18853200</td>\n",
       "      <td>amzn</td>\n",
       "      <td>-0.128049</td>\n",
       "      <td>-0.137022</td>\n",
       "    </tr>\n",
       "    <tr>\n",
       "      <th>4</th>\n",
       "      <td>1997-05-22</td>\n",
       "      <td>1.40</td>\n",
       "      <td>11776800</td>\n",
       "      <td>amzn</td>\n",
       "      <td>-0.020979</td>\n",
       "      <td>-0.021202</td>\n",
       "    </tr>\n",
       "  </tbody>\n",
       "</table>\n",
       "</div>"
      ],
      "text/plain": [
       "         Date  Close    Volume ticker  pct_change   log_ret\n",
       "0  1997-05-16   1.73  14700000   amzn         NaN       NaN\n",
       "1  1997-05-19   1.71   6106800   amzn   -0.011561 -0.011628\n",
       "2  1997-05-20   1.64   5467200   amzn   -0.040936 -0.041797\n",
       "3  1997-05-21   1.43  18853200   amzn   -0.128049 -0.137022\n",
       "4  1997-05-22   1.40  11776800   amzn   -0.020979 -0.021202"
      ]
     },
     "execution_count": 49,
     "metadata": {},
     "output_type": "execute_result"
    }
   ],
   "source": [
    "# Convert Percent Change of Closing Price to Log Return\n",
    "amzn_df['log_ret'] = np.log(amzn_df['Close'] / amzn_df['Close'].shift(1))\n",
    "amzn_df.head(5)"
   ]
  },
  {
   "cell_type": "code",
   "execution_count": 51,
   "metadata": {
    "scrolled": true
   },
   "outputs": [
    {
     "data": {
      "text/plain": [
       "[<matplotlib.lines.Line2D at 0x25190048>]"
      ]
     },
     "execution_count": 51,
     "metadata": {},
     "output_type": "execute_result"
    },
    {
     "data": {
      "image/png": "[encoded data removed]",
      "text/plain": [
       "<matplotlib.figure.Figure at 0x2416df60>"
      ]
     },
     "metadata": {},
     "output_type": "display_data"
    }
   ],
   "source": [
    "plt.plot(amzn_df['log_ret'])"
   ]
  },
  {
   "cell_type": "code",
   "execution_count": 52,
   "metadata": {},
   "outputs": [
    {
     "data": {
      "text/plain": [
       "[<matplotlib.lines.Line2D at 0x240d8438>]"
      ]
     },
     "execution_count": 52,
     "metadata": {},
     "output_type": "execute_result"
    },
    {
     "data": {
      "image/png": "[encoded data removed]",
      "text/plain": [
       "<matplotlib.figure.Figure at 0x2415f8d0>"
      ]
     },
     "metadata": {},
     "output_type": "display_data"
    }
   ],
   "source": [
    "plt.plot(amzn_df['Volume'])"
   ]
  },
  {
   "cell_type": "code",
   "execution_count": 143,
   "metadata": {
    "scrolled": true
   },
   "outputs": [
    {
     "data": {
      "text/html": [
       "<div>\n",
       "<style>\n",
       "    .dataframe thead tr:only-child th {\n",
       "        text-align: right;\n",
       "    }\n",
       "\n",
       "    .dataframe thead th {\n",
       "        text-align: left;\n",
       "    }\n",
       "\n",
       "    .dataframe tbody tr th {\n",
       "        vertical-align: top;\n",
       "    }\n",
       "</style>\n",
       "<table border=\"1\" class=\"dataframe\">\n",
       "  <thead>\n",
       "    <tr style=\"text-align: right;\">\n",
       "      <th></th>\n",
       "      <th>Date</th>\n",
       "      <th>Close</th>\n",
       "      <th>Volume</th>\n",
       "      <th>ticker</th>\n",
       "      <th>pct_change</th>\n",
       "      <th>log_ret</th>\n",
       "      <th>t1</th>\n",
       "      <th>t2</th>\n",
       "      <th>t3</th>\n",
       "    </tr>\n",
       "  </thead>\n",
       "  <tbody>\n",
       "    <tr>\n",
       "      <th>0</th>\n",
       "      <td>1997-05-16</td>\n",
       "      <td>1.73</td>\n",
       "      <td>14700000</td>\n",
       "      <td>amzn</td>\n",
       "      <td>NaN</td>\n",
       "      <td>NaN</td>\n",
       "      <td>-0.011628</td>\n",
       "      <td>-0.011628</td>\n",
       "      <td>-0.011628</td>\n",
       "    </tr>\n",
       "    <tr>\n",
       "      <th>1</th>\n",
       "      <td>1997-05-19</td>\n",
       "      <td>1.71</td>\n",
       "      <td>6106800</td>\n",
       "      <td>amzn</td>\n",
       "      <td>-0.011561</td>\n",
       "      <td>-0.011628</td>\n",
       "      <td>-0.011628</td>\n",
       "      <td>-0.011628</td>\n",
       "      <td>-0.011628</td>\n",
       "    </tr>\n",
       "    <tr>\n",
       "      <th>2</th>\n",
       "      <td>1997-05-20</td>\n",
       "      <td>1.64</td>\n",
       "      <td>5467200</td>\n",
       "      <td>amzn</td>\n",
       "      <td>-0.040936</td>\n",
       "      <td>-0.041797</td>\n",
       "      <td>-0.011628</td>\n",
       "      <td>-0.011628</td>\n",
       "      <td>-0.011628</td>\n",
       "    </tr>\n",
       "    <tr>\n",
       "      <th>3</th>\n",
       "      <td>1997-05-21</td>\n",
       "      <td>1.43</td>\n",
       "      <td>18853200</td>\n",
       "      <td>amzn</td>\n",
       "      <td>-0.128049</td>\n",
       "      <td>-0.137022</td>\n",
       "      <td>-0.041797</td>\n",
       "      <td>-0.011628</td>\n",
       "      <td>-0.011628</td>\n",
       "    </tr>\n",
       "    <tr>\n",
       "      <th>4</th>\n",
       "      <td>1997-05-22</td>\n",
       "      <td>1.40</td>\n",
       "      <td>11776800</td>\n",
       "      <td>amzn</td>\n",
       "      <td>-0.020979</td>\n",
       "      <td>-0.021202</td>\n",
       "      <td>-0.137022</td>\n",
       "      <td>-0.041797</td>\n",
       "      <td>-0.011628</td>\n",
       "    </tr>\n",
       "  </tbody>\n",
       "</table>\n",
       "</div>"
      ],
      "text/plain": [
       "         Date  Close    Volume ticker  pct_change   log_ret        t1  \\\n",
       "0  1997-05-16   1.73  14700000   amzn         NaN       NaN -0.011628   \n",
       "1  1997-05-19   1.71   6106800   amzn   -0.011561 -0.011628 -0.011628   \n",
       "2  1997-05-20   1.64   5467200   amzn   -0.040936 -0.041797 -0.011628   \n",
       "3  1997-05-21   1.43  18853200   amzn   -0.128049 -0.137022 -0.041797   \n",
       "4  1997-05-22   1.40  11776800   amzn   -0.020979 -0.021202 -0.137022   \n",
       "\n",
       "         t2        t3  \n",
       "0 -0.011628 -0.011628  \n",
       "1 -0.011628 -0.011628  \n",
       "2 -0.011628 -0.011628  \n",
       "3 -0.011628 -0.011628  \n",
       "4 -0.041797 -0.011628  "
      ]
     },
     "execution_count": 143,
     "metadata": {},
     "output_type": "execute_result"
    }
   ],
   "source": [
    "amzn_df['t1'] = tminus1\n",
    "amzn_df['t2'] = tminus2\n",
    "amzn_df['t3'] = tminus3\n",
    "amzn_df.head(5)"
   ]
  },
  {
   "cell_type": "code",
   "execution_count": 145,
   "metadata": {},
   "outputs": [
    {
     "data": {
      "text/html": [
       "<div>\n",
       "<style>\n",
       "    .dataframe thead tr:only-child th {\n",
       "        text-align: right;\n",
       "    }\n",
       "\n",
       "    .dataframe thead th {\n",
       "        text-align: left;\n",
       "    }\n",
       "\n",
       "    .dataframe tbody tr th {\n",
       "        vertical-align: top;\n",
       "    }\n",
       "</style>\n",
       "<table border=\"1\" class=\"dataframe\">\n",
       "  <thead>\n",
       "    <tr style=\"text-align: right;\">\n",
       "      <th></th>\n",
       "      <th>Date</th>\n",
       "      <th>Close</th>\n",
       "      <th>Volume</th>\n",
       "      <th>ticker</th>\n",
       "      <th>pct_change</th>\n",
       "      <th>log_ret</th>\n",
       "      <th>t1</th>\n",
       "      <th>t2</th>\n",
       "      <th>t3</th>\n",
       "    </tr>\n",
       "  </thead>\n",
       "  <tbody>\n",
       "    <tr>\n",
       "      <th>0</th>\n",
       "      <td>1997-05-16</td>\n",
       "      <td>1.73</td>\n",
       "      <td>14700000</td>\n",
       "      <td>amzn</td>\n",
       "      <td>NaN</td>\n",
       "      <td>-0.011628</td>\n",
       "      <td>-0.011628</td>\n",
       "      <td>-0.011628</td>\n",
       "      <td>-0.011628</td>\n",
       "    </tr>\n",
       "    <tr>\n",
       "      <th>1</th>\n",
       "      <td>1997-05-19</td>\n",
       "      <td>1.71</td>\n",
       "      <td>6106800</td>\n",
       "      <td>amzn</td>\n",
       "      <td>-0.011561</td>\n",
       "      <td>-0.011628</td>\n",
       "      <td>-0.011628</td>\n",
       "      <td>-0.011628</td>\n",
       "      <td>-0.011628</td>\n",
       "    </tr>\n",
       "    <tr>\n",
       "      <th>2</th>\n",
       "      <td>1997-05-20</td>\n",
       "      <td>1.64</td>\n",
       "      <td>5467200</td>\n",
       "      <td>amzn</td>\n",
       "      <td>-0.040936</td>\n",
       "      <td>-0.041797</td>\n",
       "      <td>-0.011628</td>\n",
       "      <td>-0.011628</td>\n",
       "      <td>-0.011628</td>\n",
       "    </tr>\n",
       "    <tr>\n",
       "      <th>3</th>\n",
       "      <td>1997-05-21</td>\n",
       "      <td>1.43</td>\n",
       "      <td>18853200</td>\n",
       "      <td>amzn</td>\n",
       "      <td>-0.128049</td>\n",
       "      <td>-0.137022</td>\n",
       "      <td>-0.041797</td>\n",
       "      <td>-0.011628</td>\n",
       "      <td>-0.011628</td>\n",
       "    </tr>\n",
       "    <tr>\n",
       "      <th>4</th>\n",
       "      <td>1997-05-22</td>\n",
       "      <td>1.40</td>\n",
       "      <td>11776800</td>\n",
       "      <td>amzn</td>\n",
       "      <td>-0.020979</td>\n",
       "      <td>-0.021202</td>\n",
       "      <td>-0.137022</td>\n",
       "      <td>-0.041797</td>\n",
       "      <td>-0.011628</td>\n",
       "    </tr>\n",
       "  </tbody>\n",
       "</table>\n",
       "</div>"
      ],
      "text/plain": [
       "         Date  Close    Volume ticker  pct_change   log_ret        t1  \\\n",
       "0  1997-05-16   1.73  14700000   amzn         NaN -0.011628 -0.011628   \n",
       "1  1997-05-19   1.71   6106800   amzn   -0.011561 -0.011628 -0.011628   \n",
       "2  1997-05-20   1.64   5467200   amzn   -0.040936 -0.041797 -0.011628   \n",
       "3  1997-05-21   1.43  18853200   amzn   -0.128049 -0.137022 -0.041797   \n",
       "4  1997-05-22   1.40  11776800   amzn   -0.020979 -0.021202 -0.137022   \n",
       "\n",
       "         t2        t3  \n",
       "0 -0.011628 -0.011628  \n",
       "1 -0.011628 -0.011628  \n",
       "2 -0.011628 -0.011628  \n",
       "3 -0.011628 -0.011628  \n",
       "4 -0.041797 -0.011628  "
      ]
     },
     "execution_count": 145,
     "metadata": {},
     "output_type": "execute_result"
    }
   ],
   "source": [
    "amzn_df['log_ret'] = amzn_df['log_ret'].bfill()\n",
    "amzn_df.head(5)"
   ]
  },
  {
   "cell_type": "code",
   "execution_count": 148,
   "metadata": {},
   "outputs": [
    {
     "data": {
      "text/html": [
       "<div>\n",
       "<style>\n",
       "    .dataframe thead tr:only-child th {\n",
       "        text-align: right;\n",
       "    }\n",
       "\n",
       "    .dataframe thead th {\n",
       "        text-align: left;\n",
       "    }\n",
       "\n",
       "    .dataframe tbody tr th {\n",
       "        vertical-align: top;\n",
       "    }\n",
       "</style>\n",
       "<table border=\"1\" class=\"dataframe\">\n",
       "  <thead>\n",
       "    <tr style=\"text-align: right;\">\n",
       "      <th></th>\n",
       "      <th>log_ret</th>\n",
       "      <th>t1</th>\n",
       "      <th>t2</th>\n",
       "      <th>t3</th>\n",
       "    </tr>\n",
       "  </thead>\n",
       "  <tbody>\n",
       "    <tr>\n",
       "      <th>0</th>\n",
       "      <td>-0.011628</td>\n",
       "      <td>-0.011628</td>\n",
       "      <td>-0.011628</td>\n",
       "      <td>-0.011628</td>\n",
       "    </tr>\n",
       "    <tr>\n",
       "      <th>1</th>\n",
       "      <td>-0.011628</td>\n",
       "      <td>-0.011628</td>\n",
       "      <td>-0.011628</td>\n",
       "      <td>-0.011628</td>\n",
       "    </tr>\n",
       "    <tr>\n",
       "      <th>2</th>\n",
       "      <td>-0.041797</td>\n",
       "      <td>-0.011628</td>\n",
       "      <td>-0.011628</td>\n",
       "      <td>-0.011628</td>\n",
       "    </tr>\n",
       "    <tr>\n",
       "      <th>3</th>\n",
       "      <td>-0.137022</td>\n",
       "      <td>-0.041797</td>\n",
       "      <td>-0.011628</td>\n",
       "      <td>-0.011628</td>\n",
       "    </tr>\n",
       "    <tr>\n",
       "      <th>4</th>\n",
       "      <td>-0.021202</td>\n",
       "      <td>-0.137022</td>\n",
       "      <td>-0.041797</td>\n",
       "      <td>-0.011628</td>\n",
       "    </tr>\n",
       "  </tbody>\n",
       "</table>\n",
       "</div>"
      ],
      "text/plain": [
       "    log_ret        t1        t2        t3\n",
       "0 -0.011628 -0.011628 -0.011628 -0.011628\n",
       "1 -0.011628 -0.011628 -0.011628 -0.011628\n",
       "2 -0.041797 -0.011628 -0.011628 -0.011628\n",
       "3 -0.137022 -0.041797 -0.011628 -0.011628\n",
       "4 -0.021202 -0.137022 -0.041797 -0.011628"
      ]
     },
     "execution_count": 148,
     "metadata": {},
     "output_type": "execute_result"
    }
   ],
   "source": [
    "amzn_df2 = amzn_df.drop(['Date', 'Close', 'Volume', 'ticker', 'pct_change'], 1)\n",
    "amzn_df2.head()\n",
    "#data = data.drop(['DATE'], 1)"
   ]
  },
  {
   "cell_type": "code",
   "execution_count": 152,
   "metadata": {},
   "outputs": [
    {
     "name": "stdout",
     "output_type": "stream",
     "text": [
      "5153 4\n"
     ]
    }
   ],
   "source": [
    "n = amzn_df2.shape[0]\n",
    "p = amzn_df2.shape[1]\n",
    "print(n, p)"
   ]
  },
  {
   "cell_type": "code",
   "execution_count": 157,
   "metadata": {},
   "outputs": [],
   "source": [
    "a_data = amzn_df2.values"
   ]
  },
  {
   "cell_type": "code",
   "execution_count": 158,
   "metadata": {},
   "outputs": [],
   "source": [
    "train_start = 0\n",
    "train_end = int(np.floor(0.8*n))\n",
    "test_start = train_end + 1\n",
    "test_end = n\n",
    "data_train = a_data[np.arange(train_start, train_end), :]\n",
    "data_test = a_data[np.arange(test_start, test_end), :]\n",
    "\n",
    "# go to model train section at end"
   ]
  },
  {
   "cell_type": "code",
   "execution_count": 124,
   "metadata": {},
   "outputs": [
    {
     "data": {
      "text/plain": [
       "0      -0.011628\n",
       "1      -0.011628\n",
       "2      -0.011628\n",
       "3      -0.041797\n",
       "4      -0.137022\n",
       "5      -0.021202\n",
       "6       0.068993\n",
       "7       0.051960\n",
       "8      -0.032157\n",
       "9      -0.013158\n",
       "10     -0.006645\n",
       "11      0.006645\n",
       "12     -0.020068\n",
       "13     -0.041385\n",
       "14      0.081126\n",
       "15      0.075035\n",
       "16      0.017911\n",
       "17     -0.067304\n",
       "18     -0.025642\n",
       "19      0.038221\n",
       "20     -0.012579\n",
       "21     -0.006349\n",
       "22     -0.038966\n",
       "23      0.000000\n",
       "24      0.000000\n",
       "25      0.013158\n",
       "26     -0.019803\n",
       "27      0.006645\n",
       "28      0.000000\n",
       "29      0.000000\n",
       "          ...   \n",
       "5123    0.005162\n",
       "5124   -0.002249\n",
       "5125   -0.002181\n",
       "5126    0.008686\n",
       "5127    0.015825\n",
       "5128    0.008790\n",
       "5129    0.001495\n",
       "5130   -0.003832\n",
       "5131    0.007870\n",
       "5132    0.005942\n",
       "5133    0.002006\n",
       "5134    0.003384\n",
       "5135    0.002769\n",
       "5136   -0.012093\n",
       "5137   -0.010476\n",
       "5138   -0.003757\n",
       "5139   -0.017043\n",
       "5140    0.009886\n",
       "5141   -0.003069\n",
       "5142   -0.000493\n",
       "5143    0.124131\n",
       "5144    0.008952\n",
       "5145   -0.005027\n",
       "5146   -0.001449\n",
       "5147   -0.008608\n",
       "5148    0.015759\n",
       "5149    0.008117\n",
       "5150    0.002237\n",
       "5151    0.008608\n",
       "5152   -0.003316\n",
       "Name: log_ret, Length: 5153, dtype: float64"
      ]
     },
     "execution_count": 124,
     "metadata": {},
     "output_type": "execute_result"
    }
   ],
   "source": [
    "# tminus1 = amzn_df['log_ret'].shift(1)[-5:]\n",
    "tminus1 = amzn_df['log_ret'].shift(1)\n",
    "tminus1 = tminus1.bfill()\n",
    "tminus1"
   ]
  },
  {
   "cell_type": "code",
   "execution_count": 125,
   "metadata": {},
   "outputs": [
    {
     "data": {
      "text/plain": [
       "0      -0.011628\n",
       "1      -0.011628\n",
       "2      -0.011628\n",
       "3      -0.011628\n",
       "4      -0.041797\n",
       "5      -0.137022\n",
       "6      -0.021202\n",
       "7       0.068993\n",
       "8       0.051960\n",
       "9      -0.032157\n",
       "10     -0.013158\n",
       "11     -0.006645\n",
       "12      0.006645\n",
       "13     -0.020068\n",
       "14     -0.041385\n",
       "15      0.081126\n",
       "16      0.075035\n",
       "17      0.017911\n",
       "18     -0.067304\n",
       "19     -0.025642\n",
       "20      0.038221\n",
       "21     -0.012579\n",
       "22     -0.006349\n",
       "23     -0.038966\n",
       "24      0.000000\n",
       "25      0.000000\n",
       "26      0.013158\n",
       "27     -0.019803\n",
       "28      0.006645\n",
       "29      0.000000\n",
       "          ...   \n",
       "5123    0.005799\n",
       "5124    0.005162\n",
       "5125   -0.002249\n",
       "5126   -0.002181\n",
       "5127    0.008686\n",
       "5128    0.015825\n",
       "5129    0.008790\n",
       "5130    0.001495\n",
       "5131   -0.003832\n",
       "5132    0.007870\n",
       "5133    0.005942\n",
       "5134    0.002006\n",
       "5135    0.003384\n",
       "5136    0.002769\n",
       "5137   -0.012093\n",
       "5138   -0.010476\n",
       "5139   -0.003757\n",
       "5140   -0.017043\n",
       "5141    0.009886\n",
       "5142   -0.003069\n",
       "5143   -0.000493\n",
       "5144    0.124131\n",
       "5145    0.008952\n",
       "5146   -0.005027\n",
       "5147   -0.001449\n",
       "5148   -0.008608\n",
       "5149    0.015759\n",
       "5150    0.008117\n",
       "5151    0.002237\n",
       "5152    0.008608\n",
       "Name: log_ret, Length: 5153, dtype: float64"
      ]
     },
     "execution_count": 125,
     "metadata": {},
     "output_type": "execute_result"
    }
   ],
   "source": [
    "tminus2 = amzn_df['log_ret'].shift(2)\n",
    "tminus2 = tminus2.bfill()\n",
    "tminus2"
   ]
  },
  {
   "cell_type": "code",
   "execution_count": 126,
   "metadata": {},
   "outputs": [
    {
     "data": {
      "text/plain": [
       "0      -0.011628\n",
       "1      -0.011628\n",
       "2      -0.011628\n",
       "3      -0.011628\n",
       "4      -0.011628\n",
       "5      -0.041797\n",
       "6      -0.137022\n",
       "7      -0.021202\n",
       "8       0.068993\n",
       "9       0.051960\n",
       "10     -0.032157\n",
       "11     -0.013158\n",
       "12     -0.006645\n",
       "13      0.006645\n",
       "14     -0.020068\n",
       "15     -0.041385\n",
       "16      0.081126\n",
       "17      0.075035\n",
       "18      0.017911\n",
       "19     -0.067304\n",
       "20     -0.025642\n",
       "21      0.038221\n",
       "22     -0.012579\n",
       "23     -0.006349\n",
       "24     -0.038966\n",
       "25      0.000000\n",
       "26      0.000000\n",
       "27      0.013158\n",
       "28     -0.019803\n",
       "29      0.006645\n",
       "          ...   \n",
       "5123    0.012988\n",
       "5124    0.005799\n",
       "5125    0.005162\n",
       "5126   -0.002249\n",
       "5127   -0.002181\n",
       "5128    0.008686\n",
       "5129    0.015825\n",
       "5130    0.008790\n",
       "5131    0.001495\n",
       "5132   -0.003832\n",
       "5133    0.007870\n",
       "5134    0.005942\n",
       "5135    0.002006\n",
       "5136    0.003384\n",
       "5137    0.002769\n",
       "5138   -0.012093\n",
       "5139   -0.010476\n",
       "5140   -0.003757\n",
       "5141   -0.017043\n",
       "5142    0.009886\n",
       "5143   -0.003069\n",
       "5144   -0.000493\n",
       "5145    0.124131\n",
       "5146    0.008952\n",
       "5147   -0.005027\n",
       "5148   -0.001449\n",
       "5149   -0.008608\n",
       "5150    0.015759\n",
       "5151    0.008117\n",
       "5152    0.002237\n",
       "Name: log_ret, Length: 5153, dtype: float64"
      ]
     },
     "execution_count": 126,
     "metadata": {},
     "output_type": "execute_result"
    }
   ],
   "source": [
    "tminus3 = amzn_df['log_ret'].shift(3)\n",
    "tminus3 = tminus3.bfill()\n",
    "tminus3"
   ]
  },
  {
   "cell_type": "code",
   "execution_count": 120,
   "metadata": {},
   "outputs": [],
   "source": [
    "import scipy"
   ]
  },
  {
   "cell_type": "code",
   "execution_count": 123,
   "metadata": {
    "scrolled": false
   },
   "outputs": [
    {
     "data": {
      "text/plain": [
       "0      -0.011628\n",
       "1      -0.011628\n",
       "2      -0.011628\n",
       "3      -0.011628\n",
       "4      -0.011628\n",
       "5      -0.011628\n",
       "6      -0.041797\n",
       "7      -0.137022\n",
       "8      -0.021202\n",
       "9       0.068993\n",
       "10      0.051960\n",
       "11     -0.032157\n",
       "12     -0.013158\n",
       "13     -0.006645\n",
       "14      0.006645\n",
       "15     -0.020068\n",
       "16     -0.041385\n",
       "17      0.081126\n",
       "18      0.075035\n",
       "19      0.017911\n",
       "20     -0.067304\n",
       "21     -0.025642\n",
       "22      0.038221\n",
       "23     -0.012579\n",
       "24     -0.006349\n",
       "25     -0.038966\n",
       "26      0.000000\n",
       "27      0.000000\n",
       "28      0.013158\n",
       "29     -0.019803\n",
       "          ...   \n",
       "5123   -0.001267\n",
       "5124    0.012988\n",
       "5125    0.005799\n",
       "5126    0.005162\n",
       "5127   -0.002249\n",
       "5128   -0.002181\n",
       "5129    0.008686\n",
       "5130    0.015825\n",
       "5131    0.008790\n",
       "5132    0.001495\n",
       "5133   -0.003832\n",
       "5134    0.007870\n",
       "5135    0.005942\n",
       "5136    0.002006\n",
       "5137    0.003384\n",
       "5138    0.002769\n",
       "5139   -0.012093\n",
       "5140   -0.010476\n",
       "5141   -0.003757\n",
       "5142   -0.017043\n",
       "5143    0.009886\n",
       "5144   -0.003069\n",
       "5145   -0.000493\n",
       "5146    0.124131\n",
       "5147    0.008952\n",
       "5148   -0.005027\n",
       "5149   -0.001449\n",
       "5150   -0.008608\n",
       "5151    0.015759\n",
       "5152    0.008117\n",
       "Name: log_ret, Length: 5153, dtype: float64"
      ]
     },
     "execution_count": 123,
     "metadata": {},
     "output_type": "execute_result"
    }
   ],
   "source": [
    "tminus4 = amzn_df['log_ret'].shift(4)\n",
    "tminus4 = tminus4.bfill()\n",
    "tminus4"
   ]
  },
  {
   "cell_type": "code",
   "execution_count": 141,
   "metadata": {},
   "outputs": [
    {
     "data": {
      "text/html": [
       "<div>\n",
       "<style>\n",
       "    .dataframe thead tr:only-child th {\n",
       "        text-align: right;\n",
       "    }\n",
       "\n",
       "    .dataframe thead th {\n",
       "        text-align: left;\n",
       "    }\n",
       "\n",
       "    .dataframe tbody tr th {\n",
       "        vertical-align: top;\n",
       "    }\n",
       "</style>\n",
       "<table border=\"1\" class=\"dataframe\">\n",
       "  <thead>\n",
       "    <tr style=\"text-align: right;\">\n",
       "      <th></th>\n",
       "      <th>Date</th>\n",
       "      <th>Close</th>\n",
       "      <th>Volume</th>\n",
       "      <th>ticker</th>\n",
       "      <th>pct_change</th>\n",
       "      <th>log_ret</th>\n",
       "    </tr>\n",
       "  </thead>\n",
       "  <tbody>\n",
       "    <tr>\n",
       "      <th>5148</th>\n",
       "      <td>2017-11-06</td>\n",
       "      <td>1120.66</td>\n",
       "      <td>3331738</td>\n",
       "      <td>amzn</td>\n",
       "      <td>0.008150</td>\n",
       "      <td>0.008117</td>\n",
       "    </tr>\n",
       "    <tr>\n",
       "      <th>5149</th>\n",
       "      <td>2017-11-07</td>\n",
       "      <td>1123.17</td>\n",
       "      <td>2684443</td>\n",
       "      <td>amzn</td>\n",
       "      <td>0.002240</td>\n",
       "      <td>0.002237</td>\n",
       "    </tr>\n",
       "    <tr>\n",
       "      <th>5150</th>\n",
       "      <td>2017-11-08</td>\n",
       "      <td>1132.88</td>\n",
       "      <td>2576010</td>\n",
       "      <td>amzn</td>\n",
       "      <td>0.008645</td>\n",
       "      <td>0.008608</td>\n",
       "    </tr>\n",
       "    <tr>\n",
       "      <th>5151</th>\n",
       "      <td>2017-11-09</td>\n",
       "      <td>1129.13</td>\n",
       "      <td>3729978</td>\n",
       "      <td>amzn</td>\n",
       "      <td>-0.003310</td>\n",
       "      <td>-0.003316</td>\n",
       "    </tr>\n",
       "    <tr>\n",
       "      <th>5152</th>\n",
       "      <td>2017-11-10</td>\n",
       "      <td>1125.35</td>\n",
       "      <td>2179181</td>\n",
       "      <td>amzn</td>\n",
       "      <td>-0.003348</td>\n",
       "      <td>-0.003353</td>\n",
       "    </tr>\n",
       "  </tbody>\n",
       "</table>\n",
       "</div>"
      ],
      "text/plain": [
       "            Date    Close   Volume ticker  pct_change   log_ret\n",
       "5148  2017-11-06  1120.66  3331738   amzn    0.008150  0.008117\n",
       "5149  2017-11-07  1123.17  2684443   amzn    0.002240  0.002237\n",
       "5150  2017-11-08  1132.88  2576010   amzn    0.008645  0.008608\n",
       "5151  2017-11-09  1129.13  3729978   amzn   -0.003310 -0.003316\n",
       "5152  2017-11-10  1125.35  2179181   amzn   -0.003348 -0.003353"
      ]
     },
     "execution_count": 141,
     "metadata": {},
     "output_type": "execute_result"
    }
   ],
   "source": [
    "\n",
    "amzn_df.tail(5)"
   ]
  },
  {
   "cell_type": "code",
   "execution_count": 117,
   "metadata": {
    "scrolled": true
   },
   "outputs": [
    {
     "data": {
      "text/html": [
       "<div>\n",
       "<style>\n",
       "    .dataframe thead tr:only-child th {\n",
       "        text-align: right;\n",
       "    }\n",
       "\n",
       "    .dataframe thead th {\n",
       "        text-align: left;\n",
       "    }\n",
       "\n",
       "    .dataframe tbody tr th {\n",
       "        vertical-align: top;\n",
       "    }\n",
       "</style>\n",
       "<table border=\"1\" class=\"dataframe\">\n",
       "  <thead>\n",
       "    <tr style=\"text-align: right;\">\n",
       "      <th></th>\n",
       "      <th>Date</th>\n",
       "      <th>Close</th>\n",
       "      <th>Volume</th>\n",
       "      <th>ticker</th>\n",
       "      <th>pct_change</th>\n",
       "      <th>log_ret</th>\n",
       "    </tr>\n",
       "  </thead>\n",
       "  <tbody>\n",
       "    <tr>\n",
       "      <th>5143</th>\n",
       "      <td>2017-10-30</td>\n",
       "      <td>1110.85</td>\n",
       "      <td>6613064</td>\n",
       "      <td>amzn</td>\n",
       "      <td>0.008992</td>\n",
       "      <td>0.008952</td>\n",
       "    </tr>\n",
       "    <tr>\n",
       "      <th>5144</th>\n",
       "      <td>2017-10-31</td>\n",
       "      <td>1105.28</td>\n",
       "      <td>3476967</td>\n",
       "      <td>amzn</td>\n",
       "      <td>-0.005014</td>\n",
       "      <td>-0.005027</td>\n",
       "    </tr>\n",
       "    <tr>\n",
       "      <th>5145</th>\n",
       "      <td>2017-11-01</td>\n",
       "      <td>1103.68</td>\n",
       "      <td>3755511</td>\n",
       "      <td>amzn</td>\n",
       "      <td>-0.001448</td>\n",
       "      <td>-0.001449</td>\n",
       "    </tr>\n",
       "    <tr>\n",
       "      <th>5146</th>\n",
       "      <td>2017-11-02</td>\n",
       "      <td>1094.22</td>\n",
       "      <td>3684876</td>\n",
       "      <td>amzn</td>\n",
       "      <td>-0.008571</td>\n",
       "      <td>-0.008608</td>\n",
       "    </tr>\n",
       "    <tr>\n",
       "      <th>5147</th>\n",
       "      <td>2017-11-03</td>\n",
       "      <td>1111.60</td>\n",
       "      <td>3751480</td>\n",
       "      <td>amzn</td>\n",
       "      <td>0.015883</td>\n",
       "      <td>0.015759</td>\n",
       "    </tr>\n",
       "    <tr>\n",
       "      <th>5148</th>\n",
       "      <td>2017-11-06</td>\n",
       "      <td>1120.66</td>\n",
       "      <td>3331738</td>\n",
       "      <td>amzn</td>\n",
       "      <td>0.008150</td>\n",
       "      <td>0.008117</td>\n",
       "    </tr>\n",
       "    <tr>\n",
       "      <th>5149</th>\n",
       "      <td>2017-11-07</td>\n",
       "      <td>1123.17</td>\n",
       "      <td>2684443</td>\n",
       "      <td>amzn</td>\n",
       "      <td>0.002240</td>\n",
       "      <td>0.002237</td>\n",
       "    </tr>\n",
       "    <tr>\n",
       "      <th>5150</th>\n",
       "      <td>2017-11-08</td>\n",
       "      <td>1132.88</td>\n",
       "      <td>2576010</td>\n",
       "      <td>amzn</td>\n",
       "      <td>0.008645</td>\n",
       "      <td>0.008608</td>\n",
       "    </tr>\n",
       "    <tr>\n",
       "      <th>5151</th>\n",
       "      <td>2017-11-09</td>\n",
       "      <td>1129.13</td>\n",
       "      <td>3729978</td>\n",
       "      <td>amzn</td>\n",
       "      <td>-0.003310</td>\n",
       "      <td>-0.003316</td>\n",
       "    </tr>\n",
       "    <tr>\n",
       "      <th>5152</th>\n",
       "      <td>2017-11-10</td>\n",
       "      <td>1125.35</td>\n",
       "      <td>2179181</td>\n",
       "      <td>amzn</td>\n",
       "      <td>-0.003348</td>\n",
       "      <td>-0.003353</td>\n",
       "    </tr>\n",
       "  </tbody>\n",
       "</table>\n",
       "</div>"
      ],
      "text/plain": [
       "            Date    Close   Volume ticker  pct_change   log_ret\n",
       "5143  2017-10-30  1110.85  6613064   amzn    0.008992  0.008952\n",
       "5144  2017-10-31  1105.28  3476967   amzn   -0.005014 -0.005027\n",
       "5145  2017-11-01  1103.68  3755511   amzn   -0.001448 -0.001449\n",
       "5146  2017-11-02  1094.22  3684876   amzn   -0.008571 -0.008608\n",
       "5147  2017-11-03  1111.60  3751480   amzn    0.015883  0.015759\n",
       "5148  2017-11-06  1120.66  3331738   amzn    0.008150  0.008117\n",
       "5149  2017-11-07  1123.17  2684443   amzn    0.002240  0.002237\n",
       "5150  2017-11-08  1132.88  2576010   amzn    0.008645  0.008608\n",
       "5151  2017-11-09  1129.13  3729978   amzn   -0.003310 -0.003316\n",
       "5152  2017-11-10  1125.35  2179181   amzn   -0.003348 -0.003353"
      ]
     },
     "execution_count": 117,
     "metadata": {},
     "output_type": "execute_result"
    }
   ],
   "source": [
    "amzn_df.tail(10)"
   ]
  },
  {
   "cell_type": "code",
   "execution_count": 159,
   "metadata": {},
   "outputs": [],
   "source": [
    "# Build X and y\n",
    "X_train = data_train[:, 1:]\n",
    "y_train = data_train[:, 0]\n",
    "X_test = data_test[:, 1:]\n",
    "y_test = data_test[:, 0]"
   ]
  },
  {
   "cell_type": "code",
   "execution_count": 160,
   "metadata": {},
   "outputs": [
    {
     "data": {
      "image/png": "[encoded data removed]",
      "text/plain": [
       "<matplotlib.figure.Figure at 0x102185f8>"
      ]
     },
     "metadata": {},
     "output_type": "display_data"
    }
   ],
   "source": [
    "from sklearn.linear_model import LinearRegression\n",
    "model = LinearRegression()\n",
    "model.fit(X_train, y_train)\n",
    "plt.scatter(model.predict(X_train), model.predict(X_train) - y_train, c=\"blue\", label=\"Training Data\")\n",
    "plt.scatter(model.predict(X_test), model.predict(X_test) - y_test, c=\"orange\", label=\"Testing Data\")\n",
    "plt.legend()\n",
    "plt.hlines(y=0, xmin=y_test.min(), xmax=y_test.max())\n",
    "plt.title(\"Residual Plot\")\n",
    "plt.show()"
   ]
  },
  {
   "cell_type": "code",
   "execution_count": 161,
   "metadata": {},
   "outputs": [
    {
     "name": "stdout",
     "output_type": "stream",
     "text": [
      "MSE: 0.000351932739614988, R2: -0.001682640908384547\n"
     ]
    }
   ],
   "source": [
    "from sklearn.metrics import mean_squared_error\n",
    "\n",
    "predictions = model.predict(X_test)\n",
    "MSE = mean_squared_error(y_test, predictions)\n",
    "r2 = model.score(X_test, y_test)\n",
    "\n",
    "print(f\"MSE: {MSE}, R2: {r2}\")"
   ]
  }
 ],
 "metadata": {
  "kernelspec": {
   "display_name": "Python (pdata)",
   "language": "python",
   "name": "pdata"
  },
  "language_info": {
   "codemirror_mode": {
    "name": "ipython",
    "version": 3
   },
   "file_extension": ".py",
   "mimetype": "text/x-python",
   "name": "python",
   "nbconvert_exporter": "python",
   "pygments_lexer": "ipython3",
   "version": "3.6.4"
  }
 },
 "nbformat": 4,
 "nbformat_minor": 2
}
